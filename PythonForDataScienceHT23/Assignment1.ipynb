{
 "cells": [
  {
   "cell_type": "markdown",
   "id": "12bfbd71-28c1-4a27-b8a1-3a6024d7aa65",
   "metadata": {},
   "source": [
    "# Assignment 1\n",
    "\n",
    "## Problem 1\n",
    "\n",
    "The most common way to place statues is to place them on majestic plinths. Depending on the dimensions of the statue, the base must be more or less high and offer a more or less large surface to put the statue there\n",
    "\n",
    "A plinth is thus made up of floors: each floor having a height equal to one unit and a depth equal to two units. the width of the floors decrease by one unit from one floor to the next\n",
    "\n",
    "`floor's_volume = height*depth*width`\n",
    "\n",
    "However, statues builders often find it difficult to estimate the amount of concrete needed to build each plinth. To help them you are asked to write a program that:\n",
    "\n",
    "* requires two integers, representing the width of the plinth at ground level and the width of the plinth at the highest level\n",
    "* then calculate and prints the volume of the plinth"
   ]
  },
  {
   "cell_type": "code",
   "execution_count": 12,
   "id": "77890591-53dd-4ac7-9ef2-1d29714b61b6",
   "metadata": {},
   "outputs": [
    {
     "name": "stdin",
     "output_type": "stream",
     "text": [
      "Enter the width of the plinth at the highest level:  3\n",
      "Enter the width of the plinth at ground level:  8\n"
     ]
    },
    {
     "name": "stdout",
     "output_type": "stream",
     "text": [
      "floor's volume: 16\n",
      "total: 16\n",
      "floor's volume: 14\n",
      "total: 30\n",
      "floor's volume: 12\n",
      "total: 42\n",
      "floor's volume: 10\n",
      "total: 52\n",
      "floor's volume: 8\n",
      "total: 60\n",
      "floor's volume: 6\n",
      "total: 66\n",
      "Volume of the plinth: 66\n"
     ]
    }
   ],
   "source": [
    "## First, getting the width of the plinth at the highest and at ground level from the user\n",
    "top_width = int(input(\"Enter the width of the plinth at the highest level: \"))\n",
    "ground_width = int(input(\"Enter the width of the plinth at ground level: \"))\n",
    "\n",
    "## Since height equals to one unit and depth equals to two, we create two variables equal to that\n",
    "height = 1\n",
    "depth = 2\n",
    "\n",
    "## creating a variable \"floor_volume\" to get the sum of each level\n",
    "floor_volume = 0\n",
    "\n",
    "## Creating another variable \"total\" to add each intentation of the \"floor_volume\" sum and saving it \n",
    "total = 0\n",
    "\n",
    "\"\"\"\n",
    "Creating a while loop that intentates from the ground level up until the ground level integer is equal to that of the top level\n",
    "We achieve that by decrementing the variable 'ground_floor' by one after each intentation\n",
    "\"\"\"\n",
    "\n",
    "while ground_width >= top_width:\n",
    "    floor_volume = height*depth*ground_width\n",
    "    ground_width -= 1\n",
    "    total += floor_volume\n",
    "    print(\"floor's volume:\", floor_volume)\n",
    "    print(\"total:\", total)\n",
    "    \n",
    "    \n",
    "\n",
    "print(\"Volume of the plinth:\", total)"
   ]
  },
  {
   "cell_type": "code",
   "execution_count": null,
   "id": "dff63c2c-92c8-436a-9f7c-6049e04ee33b",
   "metadata": {},
   "outputs": [],
   "source": []
  }
 ],
 "metadata": {
  "kernelspec": {
   "display_name": "Python 3 (ipykernel)",
   "language": "python",
   "name": "python3"
  },
  "language_info": {
   "codemirror_mode": {
    "name": "ipython",
    "version": 3
   },
   "file_extension": ".py",
   "mimetype": "text/x-python",
   "name": "python",
   "nbconvert_exporter": "python",
   "pygments_lexer": "ipython3",
   "version": "3.8.10"
  }
 },
 "nbformat": 4,
 "nbformat_minor": 5
}
