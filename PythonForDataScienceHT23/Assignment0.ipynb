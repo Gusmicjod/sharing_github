{
 "cells": [
  {
   "cell_type": "markdown",
   "id": "0a508267-4c56-4a32-bf3b-9480a2cb8c3e",
   "metadata": {},
   "source": [
    "# Assignment 0\n",
    "\n",
    "## Johan Michel"
   ]
  },
  {
   "cell_type": "markdown",
   "id": "a38d5733-2dae-45ca-840b-289ed890b521",
   "metadata": {},
   "source": [
    "## Problem 1\r\n",
    "Write a program that\n",
    "1. • takes two inputs (i.e., length and width of a rectang)\n",
    "2. \n",
    "• calculates the perimeter, the length of the diagonal, and the area of  rectangle\n",
    "3. \r\n",
    "• outputs the perimeter, diagonal length, and the area of the rectangle."
   ]
  },
  {
   "cell_type": "code",
   "execution_count": 4,
   "id": "a4645f9d-d43b-4cd5-a154-f34bbcd2dd8f",
   "metadata": {},
   "outputs": [
    {
     "name": "stdin",
     "output_type": "stream",
     "text": [
      "Enter the length of the rectangle:  4\n",
      "Enter the width of the rectangle:  5\n"
     ]
    }
   ],
   "source": [
    "## Getting the inputs from the user\n",
    "\n",
    "length = int(input(\"Enter the length of the rectangle: \"))\n",
    "width = int(input(\"Enter the width of the rectangle: \"))"
   ]
  },
  {
   "cell_type": "code",
   "execution_count": 5,
   "id": "60352762-2689-4c74-be3a-2a1f6dc45f26",
   "metadata": {},
   "outputs": [
    {
     "name": "stdout",
     "output_type": "stream",
     "text": [
      "18\n"
     ]
    }
   ],
   "source": [
    "## Calculating the perimiter of the rectangle\n",
    "\n",
    "per = (length + width) * 2\n",
    "print(per)"
   ]
  },
  {
   "cell_type": "code",
   "execution_count": 6,
   "id": "1174eb41-81bc-477c-a716-a125eec11aec",
   "metadata": {},
   "outputs": [
    {
     "name": "stdout",
     "output_type": "stream",
     "text": [
      "6.4031242374328485\n"
     ]
    }
   ],
   "source": [
    "## Calculating the diagonal of the rectangle\n",
    "import math\n",
    "\n",
    "diag = math.sqrt(length**2+width**2)\n",
    "print(diag)"
   ]
  },
  {
   "cell_type": "code",
   "execution_count": 8,
   "id": "8b3f900e-9ef9-4ace-b577-036bcc68a375",
   "metadata": {},
   "outputs": [
    {
     "name": "stdout",
     "output_type": "stream",
     "text": [
      "20\n"
     ]
    }
   ],
   "source": [
    "## Calculating the area of the rectangle\n",
    "\n",
    "area = length*width\n",
    "print(area)"
   ]
  },
  {
   "cell_type": "markdown",
   "id": "1b252e7b-1b90-4703-8f5c-2cf54813ba83",
   "metadata": {},
   "source": [
    "## Summary of the code\n",
    "\n",
    "Joining all the cells in to one and cleaning up the result to better see the output"
   ]
  },
  {
   "cell_type": "code",
   "execution_count": 19,
   "id": "2b7eb01e-60b9-4708-8cf3-7eb96f89773e",
   "metadata": {},
   "outputs": [
    {
     "name": "stdin",
     "output_type": "stream",
     "text": [
      "Enter the length of the rectangle:  4\n",
      "Enter the width of the rectangle:  5\n"
     ]
    },
    {
     "name": "stdout",
     "output_type": "stream",
     "text": [
      "Calculating the properties of the rectangle!\n",
      "Perimeter: 18.0 \n",
      "Diagonal Length: 6.4031 \n",
      "Area: 20.0\n"
     ]
    }
   ],
   "source": [
    "## All in one\n",
    "import math\n",
    "\n",
    "length = int(input(\"Enter the length of the rectangle: \"))\n",
    "width = int(input(\"Enter the width of the rectangle: \"))\n",
    "print(\"Calculating the properties of the rectangle!\")\n",
    "\n",
    "per = (length + width) * 2\n",
    "diag = math.sqrt(length**2+width**2)\n",
    "area = length*width\n",
    "\n",
    "print(\"Perimeter: %.1f \\nDiagonal Length: %.4f \\nArea: %.1f\" %(per, diag, area)) "
   ]
  },
  {
   "cell_type": "code",
   "execution_count": null,
   "id": "44ce75ee-1d8e-4bf5-a98e-96c0917b444f",
   "metadata": {},
   "outputs": [],
   "source": []
  }
 ],
 "metadata": {
  "kernelspec": {
   "display_name": "Python 3 (ipykernel)",
   "language": "python",
   "name": "python3"
  },
  "language_info": {
   "codemirror_mode": {
    "name": "ipython",
    "version": 3
   },
   "file_extension": ".py",
   "mimetype": "text/x-python",
   "name": "python",
   "nbconvert_exporter": "python",
   "pygments_lexer": "ipython3",
   "version": "3.8.10"
  }
 },
 "nbformat": 4,
 "nbformat_minor": 5
}
