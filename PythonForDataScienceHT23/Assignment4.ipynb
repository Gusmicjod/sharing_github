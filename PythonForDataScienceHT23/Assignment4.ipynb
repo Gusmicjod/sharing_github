{
 "cells": [
  {
   "cell_type": "markdown",
   "id": "44e30208-3a3f-490d-aa8a-150ad3997152",
   "metadata": {},
   "source": [
    "## Using generator\n",
    "The task in this problem is to write an encoder and decoder for strings. The encoder\n",
    "compresses a non-digit string by replacing each consecutive sequence of the same\n",
    "letter by this letter and its frequency, for example, the string:\n",
    "* It’s __sooooo__ wowww!!!\n",
    "encoded as\n",
    "* I1t1’1s1 1_2s1o5_2 1w1o1w3!3"
   ]
  },
  {
   "cell_type": "code",
   "execution_count": 44,
   "id": "7064fe76-6970-41aa-b5c1-98f8711776b9",
   "metadata": {},
   "outputs": [
    {
     "name": "stdout",
     "output_type": "stream",
     "text": [
      "‘5`6*7^5\n",
      "5\n",
      "6\n",
      "7\n",
      "5\n",
      "‘‘‘‘‘``````*******^^^^^\n"
     ]
    }
   ],
   "source": [
    "def encode(message):\n",
    "    count = 1 #Initalize a count to keep track of the consecutive occurences of a character\n",
    "    for i in range(len(message)):\n",
    "        if i < len(message) - 1 and message[i] == message[i+1]: \n",
    "        #Conditional statement where we first check if we are not at the last character of the input string.\n",
    "        #Then check if the current charcter is the same as the next charcter\n",
    "            count += 1\n",
    "        else:\n",
    "        #When message[i] != message[i+1] we yeild the current index of i and the count and then reset the counter to 1\n",
    "            yield message[i] + str(count)\n",
    "            count = 1\n",
    "\n",
    "def decode(encoded):\n",
    "    i = 0 #Initialize an index variable i to 0 to start at the beginning of the encoded string.\n",
    "    while i < len(encoded): #Initialize a while loop to iterate through the characters\n",
    "        char = encoded[i] #Get the current index of the encoded string and store it in the \"char\" variable\n",
    "        count = \"\" #Empty string to store the count of the repeated variables\n",
    "        i += 1 #Goes to the next charcter\n",
    "        while i < len(encoded) and encoded[i].isdigit(): \n",
    "            count += encoded[i]\n",
    "            i += 1\n",
    "        yield char * int(count)\n",
    "        \n",
    "#\"‘‘‘‘‘``````*******^^^^^\"\n",
    "#\"It’s __sooooo__ wowww!!!\"\n",
    "message = \"‘‘‘‘‘``````*******^^^^^\"\n",
    "#print(message)\n",
    "encoded = ''.join(encode(message))\n",
    "print(encoded)\n",
    "decoded = ''.join(decode(encoded))\n",
    "print(decoded)"
   ]
  },
  {
   "cell_type": "markdown",
   "id": "625564ff-d3cb-4196-b0d9-8335fe161b56",
   "metadata": {},
   "source": [
    "You are in a recruitment process for a data science role in a small company, so your\n",
    "role may cover coding, analysis, presentation, etc. The company wants to test your\n",
    "ability to read someone else’s codes. You are provided with two sorting algorithms\n",
    "(see code below), with no comments. You are asked to answer the following questions/tasks and explain this code while answering the questions/tasks. You can answer the questions/tasks in the order you want.\n",
    "* Explain the connection between the two algorithms.\n",
    "* What is the complexity of ’sort1’ in the best case, in the worst case, and on average? Give details on your analysis to get to the answer.\n",
    "* What is the complexity of ’sort2’ in the best case, in the worst case, and on average? Give details on your analysis to get to the answer.\n",
    "* Compare the two algorithms and summarise the advantages and disadvantages\n",
    "of using each of the algorithms."
   ]
  },
  {
   "cell_type": "code",
   "execution_count": 50,
   "id": "bb6fd053-1082-4e8d-b6f3-17f1240bca0e",
   "metadata": {},
   "outputs": [
    {
     "name": "stdout",
     "output_type": "stream",
     "text": [
      "[17, 20, 26, 31, 44, 54, 55, 77, 93]\n",
      "[17, 20, 26, 31, 44, 54, 55, 77, 93]\n",
      "[17, 20, 26, 31, 44, 54, 55, 77, 93]\n"
     ]
    }
   ],
   "source": [
    "def merge(left, right):\n",
    "    if len(left) == 0:\n",
    "        return right\n",
    "    elif len(right) == 0:\n",
    "        return left\n",
    "    else:\n",
    "        result = []\n",
    "        i = j = 0\n",
    "        while len(result) < len(left) + len(right):\n",
    "            if left[i] <= right[j]:\n",
    "                result.append(left[i])\n",
    "                i += 1\n",
    "                if i == len(left):\n",
    "                    result += right[j:]\n",
    "                    break\n",
    "            else:\n",
    "                result.append(right[j])\n",
    "                j += 1\n",
    "                if j == len(right):\n",
    "                    result += left[i:]\n",
    "                    break\n",
    "        return result\n",
    "\n",
    "def sort1(L, start=0, end=None):\n",
    "    if end is None:\n",
    "        end = len(L) - 1\n",
    "\n",
    "    for i in range(start + 1, end + 1):\n",
    "        key = L[i]\n",
    "        j = i - 1\n",
    "        while j >= start and L[j] > key:\n",
    "            L[j + 1] = L[j]\n",
    "            j -= 1\n",
    "        L[j + 1] = key\n",
    "    return L\n",
    "\n",
    "def sort2(L):\n",
    "    n = len(L)\n",
    "    slice_size = 32\n",
    "\n",
    "    for i in range(0, n, slice_size):\n",
    "        sort1(L, i, min((i + slice_size - 1), n - 1))\n",
    "\n",
    "    size = slice_size\n",
    "    while size < n:\n",
    "        for start in range(0, n, size * 2):\n",
    "            middle_point = start + size - 1\n",
    "            end = min((start + size * 2 - 1), (n - 1))\n",
    "            merged_list = merge(\n",
    "                left=L[start:middle_point + 1],\n",
    "                right=L[middle_point + 1:end + 1]\n",
    "            )\n",
    "            L[start:start + len(merged_list)] = merged_list\n",
    "        size *= 2\n",
    "    return L\n",
    "\n",
    "input_list1 = [54, 26, 93, 17, 77, 31, 44, 55, 20]\n",
    "sorted_list1 = sort1(input_list1)\n",
    "print(sorted_list1)\n",
    "input_list2 = [54, 26, 93, 17, 77, 31, 44, 55, 20]\n",
    "sorted_list2 = sort2(input_list2)\n",
    "print(sorted_list2)\n",
    "left_list = [17, 26, 44, 55]\n",
    "right_list = [20, 31, 54, 77, 93]\n",
    "merged_result = merge(left_list, right_list)\n",
    "print(merged_result)\n"
   ]
  },
  {
   "cell_type": "markdown",
   "id": "ead29ebf-80c2-42a2-a6fb-54daf6d96a0d",
   "metadata": {},
   "source": [
    "* The merge function takes two sorted lists, \"left\" and \"right\", and merges them into one single sorted list. It compares the two list undix the index i and j from the two list and appends the smaller number into the results list\n",
    " t"
   ]
  },
  {
   "cell_type": "markdown",
   "id": "770dbcf9-48a0-40b0-842c-5bdf90098b7c",
   "metadata": {},
   "source": [
    "* for sort1, the best case is when the list is already in order. It compares the current element with the previous element in the sorted list.Since the list is already sorted, in each comparison, it finds that the current element is greater than or equal to the previous element. It inserts the current element in its correct position in the sorted portion by shifting the elements to the right. Therefore the complexity of sort can be described as O(n) where n is the number of element in the list"
   ]
  },
  {
   "cell_type": "markdown",
   "id": "69eb37e3-722c-472e-88e5-cb63f82651e5",
   "metadata": {},
   "source": [
    "* for sort1, the worst case is when the input list is in reverse order. In this case, every element needs to be compared and shifted all the way to the beginning of the sorted portion. This results in the time complexity being O(n^2)"
   ]
  },
  {
   "cell_type": "code",
   "execution_count": null,
   "id": "b22d0664-a148-44e0-8e5c-770728a60a9b",
   "metadata": {},
   "outputs": [],
   "source": []
  }
 ],
 "metadata": {
  "kernelspec": {
   "display_name": "Python 3 (ipykernel)",
   "language": "python",
   "name": "python3"
  },
  "language_info": {
   "codemirror_mode": {
    "name": "ipython",
    "version": 3
   },
   "file_extension": ".py",
   "mimetype": "text/x-python",
   "name": "python",
   "nbconvert_exporter": "python",
   "pygments_lexer": "ipython3",
   "version": "3.8.10"
  }
 },
 "nbformat": 4,
 "nbformat_minor": 5
}
