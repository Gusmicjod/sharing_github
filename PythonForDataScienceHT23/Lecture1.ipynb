{
 "cells": [
  {
   "cell_type": "markdown",
   "id": "254d8c43-532b-45df-b430-8cc5ccfce5ed",
   "metadata": {},
   "source": [
    "## Data Types\n",
    "Variables can store data of different types.\r\n",
    "We can do different things using different data types.\r\n",
    "\r\n",
    "Some common examples of data types built-in by default in Python are:\r\n",
    "\r\n",
    "Text Type: str\r\n",
    "Numeric Types: int, float\r\n",
    "Sequence Types: list, tuple, range\r\n",
    "Mapping Type: dict\r\n",
    "Set Types: set, frozenset\r\n",
    "Boolean Type: bool\r\n",
    "Binary Types: bytes, bytearray, memoryviews"
   ]
  },
  {
   "cell_type": "markdown",
   "id": "58c481ea-030c-4a91-a837-f307739289a9",
   "metadata": {},
   "source": [
    "## Numeric\n",
    "\r\n",
    "We can apply arithmetic operators to numeric types.\r\n",
    "\r\n",
    "+: addition\r\n",
    "-: subtraction\r\n",
    "*: multiplication\r\n",
    "/: division\r\n",
    "%: modulus\r\n",
    "**: Exponentiation\r\n",
    "//: floor division\n"
   ]
  },
  {
   "cell_type": "markdown",
   "id": "e07bbfc8-66bc-4252-b4ba-addbc16cd1d9",
   "metadata": {},
   "source": [
    "## Integers\n",
    "Integers: Zero, positive, and negative whole numbers without a fractional part\r",
    "1\r\n",
    "−\r\n",
    "1\r\n",
    ")"
   ]
  },
  {
   "cell_type": "markdown",
   "id": "c977445f-e1dd-4cab-aa8c-94ecac553950",
   "metadata": {},
   "source": [
    "## Float\n",
    "Float: Positive and negative real numbers with a fractional part denoted by the decimal symbol or the scientific notation using e\n",
    "\n",
    "Example: 5.32"
   ]
  },
  {
   "cell_type": "markdown",
   "id": "0486a59f-1a61-4fab-8020-9b7f3cfed495",
   "metadata": {},
   "source": [
    "## Bollean\n",
    "Boolean data type\r\n",
    "<variable_name> = <'True' or 'False'>\r\n",
    "\r\n",
    "We can apply logic operators on Booleans values.\r\n",
    "\r\n",
    "not x is True if x is False or False if x is True\r\n",
    "x and y gives True if both are True\r\n",
    "x or y gives True if either or both are True\n"
   ]
  },
  {
   "cell_type": "markdown",
   "id": "66f94c4e-0035-44cc-9284-8a63df22e80f",
   "metadata": {},
   "source": [
    "## String\n",
    "String\r\n",
    "String data types\" <variable name\" >=\" <String sequence\">\r\n",
    "\r\n",
    "Single quotes ´ ´ or double quotes \" \" can be used to denote a string (see Lecture 0).\r\n",
    "\r\n",
    "String is immutable\r\n",
    "String is an immutable, i.e., the value of an object of type string is permanent (cannot be changed). Let's test this.\n"
   ]
  },
  {
   "cell_type": "code",
   "execution_count": 1,
   "id": "51f4ccf0-0241-46a8-a339-16ee31227633",
   "metadata": {},
   "outputs": [
    {
     "name": "stdout",
     "output_type": "stream",
     "text": [
      "2408357599792\n",
      "2408358183600\n"
     ]
    }
   ],
   "source": [
    "str = \"Hello\"\n",
    "print(id(str))\n",
    "str = \"Hi\"\n",
    "print(id(str))\n",
    "\n",
    "#Note that the memory addresses for \"Hello\" and \"Hi\" are different."
   ]
  },
  {
   "cell_type": "markdown",
   "id": "cf67a4ff-250d-46c1-b626-cfa5ca450a66",
   "metadata": {},
   "source": [
    "## Indexing string\r\n",
    "Squared brackets are used to perform indexing into a string to get the value at a certain position (index)."
   ]
  },
  {
   "cell_type": "code",
   "execution_count": 2,
   "id": "4d338696-a60e-48b7-92ed-46c6fa6ccd17",
   "metadata": {},
   "outputs": [
    {
     "name": "stdout",
     "output_type": "stream",
     "text": [
      "index 0 is D\n",
      "index -1 is  e\n"
     ]
    }
   ],
   "source": [
    "subject = 'Data science'\n",
    "print(\"index 0 is\", subject[0])\n",
    "print(\"index -1 is \", subject[-1])"
   ]
  },
  {
   "cell_type": "markdown",
   "id": "e484f097-c178-4f7f-b793-f6a1a361fd0f",
   "metadata": {},
   "source": [
    "Strings in Python are arrays of bytes representing unicode characters.\r\n",
    "Python does not have a character data type. A single character is a string with a length of 1."
   ]
  },
  {
   "cell_type": "markdown",
   "id": "6f9e64cf-9944-4622-9b37-bf56de859968",
   "metadata": {},
   "source": [
    "## Slicing for substrings\r\n",
    "We can slice strings using [start:stop:step].\r\n",
    "If only two numbers are given, [start:stop], then step is set to 1 by default."
   ]
  },
  {
   "cell_type": "code",
   "execution_count": 3,
   "id": "fae46436-9d79-494b-baf0-238ecba3da0a",
   "metadata": {},
   "outputs": [
    {
     "name": "stdout",
     "output_type": "stream",
     "text": [
      "Da\n",
      "Dat\n",
      "a science\n",
      "Dacn\n",
      "Data science\n",
      "enisaa\n"
     ]
    }
   ],
   "source": [
    "print(subject[0:2])\n",
    "print(subject[:3])\n",
    "print(subject[3:])\n",
    "print(subject[::3])\n",
    "print(subject[::])\n",
    "print(subject[::-2])"
   ]
  },
  {
   "cell_type": "code",
   "execution_count": 4,
   "id": "2567fd9e-83a3-4a6d-8568-0b679191fed2",
   "metadata": {},
   "outputs": [
    {
     "ename": "TypeError",
     "evalue": "'str' object does not support item assignment",
     "output_type": "error",
     "traceback": [
      "\u001b[1;31m---------------------------------------------------------------------------\u001b[0m",
      "\u001b[1;31mTypeError\u001b[0m                                 Traceback (most recent call last)",
      "Cell \u001b[1;32mIn[4], line 2\u001b[0m\n\u001b[0;32m      1\u001b[0m \u001b[38;5;66;03m# Try to change the content of variable subject from 'Data Science' to 'data science'\u001b[39;00m\n\u001b[1;32m----> 2\u001b[0m \u001b[43msubject\u001b[49m\u001b[43m[\u001b[49m\u001b[38;5;241;43m0\u001b[39;49m\u001b[43m]\u001b[49m \u001b[38;5;241m=\u001b[39m \u001b[38;5;124m'\u001b[39m\u001b[38;5;124md\u001b[39m\u001b[38;5;124m'\u001b[39m\n",
      "\u001b[1;31mTypeError\u001b[0m: 'str' object does not support item assignment"
     ]
    }
   ],
   "source": [
    "# Try to change the content of variable subject from 'Data Science' to 'data science'\n",
    "subject[0] = 'd'"
   ]
  },
  {
   "cell_type": "markdown",
   "id": "ffd8aa8e-92e5-47cb-a4da-32574de3b314",
   "metadata": {},
   "source": [
    "String is immutable, thats why we get an error message"
   ]
  },
  {
   "cell_type": "code",
   "execution_count": 5,
   "id": "bbfe1fa8-686c-43b5-930e-456ed4a45cab",
   "metadata": {},
   "outputs": [
    {
     "data": {
      "text/plain": [
       "'data science'"
      ]
     },
     "execution_count": 5,
     "metadata": {},
     "output_type": "execute_result"
    }
   ],
   "source": [
    "subject = 'd' + subject[1:]\n",
    "subject"
   ]
  },
  {
   "cell_type": "code",
   "execution_count": 6,
   "id": "614b69d1-aaaf-4da4-88b9-2786e377dad4",
   "metadata": {},
   "outputs": [
    {
     "name": "stdout",
     "output_type": "stream",
     "text": [
      "2408364517808\n"
     ]
    }
   ],
   "source": [
    "sub = 'try1'\n",
    "print(id(sub))"
   ]
  },
  {
   "cell_type": "code",
   "execution_count": 7,
   "id": "298ba11e-777e-4466-9b1e-04c0ea8df5b1",
   "metadata": {},
   "outputs": [
    {
     "name": "stdout",
     "output_type": "stream",
     "text": [
      "2408364721840\n"
     ]
    }
   ],
   "source": [
    "sub = 'T' + sub[1:]\n",
    "print(id(sub))"
   ]
  },
  {
   "cell_type": "code",
   "execution_count": 8,
   "id": "4bc4851a-8a19-4ce6-b6bb-46145351690d",
   "metadata": {},
   "outputs": [
    {
     "data": {
      "text/plain": [
       "'Try1'"
      ]
     },
     "execution_count": 8,
     "metadata": {},
     "output_type": "execute_result"
    }
   ],
   "source": [
    "sub"
   ]
  },
  {
   "cell_type": "markdown",
   "id": "ff73b69e-629e-42b8-9c01-6a9b3c0a26ed",
   "metadata": {},
   "source": [
    "## String Methods"
   ]
  },
  {
   "cell_type": "code",
   "execution_count": 9,
   "id": "0fca1e41-8cc8-46c6-98a8-051d8033ad23",
   "metadata": {},
   "outputs": [
    {
     "name": "stdout",
     "output_type": "stream",
     "text": [
      "4\n",
      "1\n",
      "2\n",
      "20\n",
      "data science uses data\n",
      "DATA SCIENCE USES DATA\n",
      "Data science uses data\n",
      "Data Science Uses Data\n",
      "dATA sCIENcE USES DATA\n",
      "Data ScienCe uses data\n"
     ]
    }
   ],
   "source": [
    "subject = 'Data ScienCe uses data'\n",
    "\n",
    "# Count how many 'a'\n",
    "print(subject.count('a'))\n",
    "# Count how many 'a', between index 3 and 5 inclusive\n",
    "print(subject.count('a',3,5))\n",
    "# Find the first occurence of 'ta'\n",
    "print(subject.find(\"ta\"))\n",
    "# Find the last occurence of 'ta'\n",
    "print(subject.rfind(\"ta\"))\n",
    "print(subject.lower())\n",
    "print(subject.upper())\n",
    "print(subject.capitalize())\n",
    "print(subject.title())\n",
    "print(subject.swapcase())\n",
    "print(subject)"
   ]
  },
  {
   "cell_type": "markdown",
   "id": "338c4a68-887c-4335-8108-6fb99ef4e503",
   "metadata": {},
   "source": [
    "## Conversion functions\n",
    "ord(): converts a character value to ASCII code\r\n",
    "chr(): converts ASCII code to character\r\n",
    "int(): converts into the int data type\r\n",
    "float(): converts into the float data type"
   ]
  },
  {
   "cell_type": "markdown",
   "id": "89556112-9b91-490f-8d13-0adfe87b3a75",
   "metadata": {},
   "source": [
    "## Data Structure\n",
    "\n",
    "Data structure is a group of data elements grouped together under one name (e.g., an array of integers). The data structure gives a way of storing and organising data in a computer so that it can be used efficiently and effectively."
   ]
  },
  {
   "cell_type": "markdown",
   "id": "66070846-c5a4-49d9-a31e-ebb85753a2d5",
   "metadata": {},
   "source": [
    "## Python Collections\r\n",
    "There are four collection data types in the Python programming language:\r\n",
    "\r\n",
    "List is a collection which is ordered and changeable. Allows duplicate members.\r\n",
    "Tuple is a collection which is ordered and unchangeable. Allows duplicate members.\r\n",
    "Set is a collection which is unordered and unindexed. No duplicate members.\r\n",
    "Dictionary is a collection which is ordered (from Python 3.7) and changeable. No duplicate members."
   ]
  },
  {
   "cell_type": "markdown",
   "id": "0d5482d8-a307-4891-8a28-c7bc838d68a9",
   "metadata": {},
   "source": [
    "## List\r\n",
    "Lists\r\n",
    "\r\n",
    "ordered sequence of information, accessible by index\r\n",
    "\r\n",
    "a list is denoted by square brackets, []\r\n",
    "\r\n",
    "a list contains elements\r\n",
    "\r\n",
    "usually homogeneous (i.e., all integers)\r\n",
    "can contain mixed types (not common)"
   ]
  },
  {
   "cell_type": "code",
   "execution_count": 10,
   "id": "531572da-79c3-4757-9962-9622862b830b",
   "metadata": {},
   "outputs": [
    {
     "data": {
      "text/plain": [
       "[1, 2, 3, 4]"
      ]
     },
     "execution_count": 10,
     "metadata": {},
     "output_type": "execute_result"
    }
   ],
   "source": [
    "# A list of integers\n",
    "l1 = [1, 2, 3, 4]\n",
    "l1"
   ]
  },
  {
   "cell_type": "code",
   "execution_count": 11,
   "id": "1ff64d70-f6fb-41bf-bcf8-8f2e44894c9e",
   "metadata": {},
   "outputs": [
    {
     "data": {
      "text/plain": [
       "['Data Science', 'Programming', 'Python', 'Computer Science']"
      ]
     },
     "execution_count": 11,
     "metadata": {},
     "output_type": "execute_result"
    }
   ],
   "source": [
    "# A list of strings\n",
    "l2 = ['Data Science', 'Programming', 'Python', 'Computer Science']\n",
    "l2"
   ]
  },
  {
   "cell_type": "code",
   "execution_count": 12,
   "id": "32da61f9-5517-4291-8075-f2c4b0a3c41f",
   "metadata": {},
   "outputs": [
    {
     "data": {
      "text/plain": [
       "[2, 1, 'Data Science', [1, 2, 3, 1]]"
      ]
     },
     "execution_count": 12,
     "metadata": {},
     "output_type": "execute_result"
    }
   ],
   "source": [
    "# A list of mixed objects\n",
    "l3 = [2, 1, 'Data Science', [1, 2, 3, 1]]\n",
    "l3"
   ]
  },
  {
   "cell_type": "markdown",
   "id": "4d7395b1-5576-4472-99db-9a76a7c47ccb",
   "metadata": {},
   "source": [
    "## Memory allocation of elements in list"
   ]
  },
  {
   "cell_type": "code",
   "execution_count": 13,
   "id": "a2600c54-5458-4dbe-9cba-e9f0a10c9fae",
   "metadata": {},
   "outputs": [
    {
     "name": "stdout",
     "output_type": "stream",
     "text": [
      "140708313831216\n",
      "140708313831184\n",
      "2408364509568\n",
      "140708313831184\n",
      "140708313831216\n",
      "140708313831248\n",
      "140708313831184\n"
     ]
    }
   ],
   "source": [
    "# Memory allocation of elements in List\n",
    "print(id(l3[0]))\n",
    "print(id(l3[1]))\n",
    "print(id(l3[3]))\n",
    "print(id(l3[3][0]))\n",
    "print(id(l3[3][1]))\n",
    "print(id(l3[3][2]))\n",
    "print(id(l3[3][3]))"
   ]
  },
  {
   "cell_type": "markdown",
   "id": "b174a6b9-cf57-4414-be45-8d5b19948814",
   "metadata": {},
   "source": [
    "A: The id(l3[1]) is the same with id(l3[3][0]) and the same with id(l3[3][3]) as they all have integer 1 as their value/content."
   ]
  },
  {
   "cell_type": "code",
   "execution_count": 17,
   "id": "679f3721-b131-48e5-9678-46caffc0f25e",
   "metadata": {},
   "outputs": [
    {
     "name": "stdout",
     "output_type": "stream",
     "text": [
      "Data Science\n",
      "a\n",
      "a\n",
      "2408289741360\n",
      "2408289741360\n"
     ]
    }
   ],
   "source": [
    "print(l3[2])\n",
    "print(l3[2][1])\n",
    "print(l3[2][3])\n",
    "print(id(l3[2][1]))\n",
    "print(id(l3[2][3]))"
   ]
  },
  {
   "cell_type": "markdown",
   "id": "928b591a-6d1e-4dbb-88be-c4de3143176e",
   "metadata": {},
   "source": [
    "#### Lists are mutable"
   ]
  },
  {
   "cell_type": "code",
   "execution_count": 18,
   "id": "f18744d9-5567-4ad5-8cd6-7334f2528020",
   "metadata": {},
   "outputs": [
    {
     "name": "stdout",
     "output_type": "stream",
     "text": [
      "[2, 1, 'Data Science', [1, 2, 3, 1]]\n",
      "140708313831216\n",
      "140708313831216\n",
      "['Hi', 1, 'Data Science', [1, 2, 3, 1]]\n"
     ]
    }
   ],
   "source": [
    "print(l3)\n",
    "print(id(l3[0]))\n",
    "l3[0] = 'Hi'\n",
    "print(id(l3[3][1]))\n",
    "print(l3)"
   ]
  },
  {
   "cell_type": "code",
   "execution_count": 19,
   "id": "9d5b4b15-7247-4a95-aa37-f6dd7e13b53b",
   "metadata": {},
   "outputs": [
    {
     "name": "stdout",
     "output_type": "stream",
     "text": [
      "['Hi', 1, 'Data Science', [1, 2, 3, 1]]\n",
      "2408358186560\n",
      "140708313831184\n",
      "140708313831184\n",
      "['Hi', 'Hi', 'Data Science', [1, 2, 3, 1]]\n",
      "2408358186560\n",
      "2408358183600\n",
      "140708313831184\n"
     ]
    }
   ],
   "source": [
    "print(l3)\n",
    "print(id(l3))\n",
    "print(id(l3[1]))\n",
    "print(id(l3[3][0]))\n",
    "l3[1] = 'Hi'\n",
    "print(l3)\n",
    "print(id(l3))\n",
    "print(id(l3[1]))\n",
    "print(id(l3[3][0])) "
   ]
  },
  {
   "cell_type": "code",
   "execution_count": 21,
   "id": "632f228a-42fb-4299-8d6c-747f07b18196",
   "metadata": {},
   "outputs": [
    {
     "name": "stdout",
     "output_type": "stream",
     "text": [
      "2408358183600\n"
     ]
    }
   ],
   "source": [
    "print(id(l3[0]))"
   ]
  },
  {
   "cell_type": "code",
   "execution_count": 22,
   "id": "7803b5f2-348b-4c37-b142-6a6e26b9548b",
   "metadata": {},
   "outputs": [
    {
     "name": "stdout",
     "output_type": "stream",
     "text": [
      "True\n"
     ]
    }
   ],
   "source": [
    "print(\"Hi\" in l3)"
   ]
  },
  {
   "cell_type": "markdown",
   "id": "3c09f1e2-6d10-457c-b427-7e82b316f83f",
   "metadata": {},
   "source": [
    "### List operations"
   ]
  },
  {
   "cell_type": "code",
   "execution_count": 23,
   "id": "e9c99b26-ba1d-4b04-abfd-e662b2e71382",
   "metadata": {},
   "outputs": [
    {
     "name": "stdout",
     "output_type": "stream",
     "text": [
      "[1, 2, 3, 4]\n",
      "[1, 2, 3, 4, 5, 6, 7]\n",
      "[1, 2, 3, 4, 1, 2, 3, 4, 1, 2, 3, 4]\n"
     ]
    }
   ],
   "source": [
    "print(l1)\n",
    "l4 = [5, 6, 7]\n",
    "l5 = l1 + l4\n",
    "print(l5)\n",
    "l6 = 3 * l1\n",
    "print(l6)"
   ]
  },
  {
   "cell_type": "markdown",
   "id": "94b1ae03-312e-4a8e-b18a-7ba0b403a31d",
   "metadata": {},
   "source": [
    "### List slices"
   ]
  },
  {
   "cell_type": "code",
   "execution_count": 24,
   "id": "4343c7dc-9d6c-489d-bf7f-c00ad47ad491",
   "metadata": {},
   "outputs": [
    {
     "name": "stdout",
     "output_type": "stream",
     "text": [
      "['Data Science', 'Programming', 'Python', 'Computer Science']\n",
      "['Programming', 'Python']\n",
      "['Data Science', 'Programming', 'Python']\n",
      "['Computer Science']\n",
      "['Data Science', 'Programming', 'Python', 'Computer Science']\n"
     ]
    }
   ],
   "source": [
    "print(l2)\n",
    "\n",
    "# Print element 1 and element 2\n",
    "print(l2[1:3])\n",
    "\n",
    "# Print the first three elements\n",
    "print(l2[:3])\n",
    "\n",
    "# Print all elements from position 3\n",
    "print(l2[3:])\n",
    "\n",
    "# Print all elements\n",
    "print(l2[:])  "
   ]
  },
  {
   "cell_type": "markdown",
   "id": "a91c0734-b8e1-4e79-8536-d2dcabe1cce8",
   "metadata": {},
   "source": [
    "### List methods"
   ]
  },
  {
   "cell_type": "code",
   "execution_count": 25,
   "id": "c299c7b0-0aff-428f-8e19-ae0814281774",
   "metadata": {},
   "outputs": [
    {
     "name": "stdout",
     "output_type": "stream",
     "text": [
      "['Data Science', 'Programming', 'Python', 'Computer Science', 'AI']\n"
     ]
    }
   ],
   "source": [
    "# append: adds a new element to the end of a list\n",
    "l2.append('AI')\n",
    "print(l2)"
   ]
  },
  {
   "cell_type": "code",
   "execution_count": 26,
   "id": "5d1b903d-e86d-4193-b268-f533b4ba8edd",
   "metadata": {},
   "outputs": [
    {
     "name": "stdout",
     "output_type": "stream",
     "text": [
      "['Data Science', 'Programming', 'Python', 'Computer Science', 'AI', 'Machine Learning', 'Software']\n"
     ]
    }
   ],
   "source": [
    "# extend: takes a list as an argument and appends all of the elements\n",
    "lnew = ['Machine Learning', 'Software']\n",
    "l2.extend(lnew)\n",
    "print(l2)"
   ]
  },
  {
   "cell_type": "code",
   "execution_count": 27,
   "id": "350f6370-7561-43a4-8f35-b166e8bfa724",
   "metadata": {},
   "outputs": [],
   "source": [
    "# sort: arranges the elements of the list from low to high\n",
    "l2.sort()"
   ]
  },
  {
   "cell_type": "code",
   "execution_count": 28,
   "id": "c348ed04-63fc-4b57-8952-3f49afdd07ef",
   "metadata": {},
   "outputs": [
    {
     "name": "stdout",
     "output_type": "stream",
     "text": [
      "['AI', 'Computer Science', 'Data Science', 'Machine Learning', 'Programming', 'Python', 'Software']\n"
     ]
    }
   ],
   "source": [
    "print(l2)"
   ]
  },
  {
   "cell_type": "code",
   "execution_count": 29,
   "id": "cf1e38d3-53c5-4342-ae23-31c943f1885f",
   "metadata": {},
   "outputs": [
    {
     "data": {
      "text/plain": [
       "['Computer Science', 'Data Science', 'Programming', 'Python']"
      ]
     },
     "execution_count": 29,
     "metadata": {},
     "output_type": "execute_result"
    }
   ],
   "source": [
    "# sort() mutates the list, but returns nothing. \n",
    "# sorted() returns the sorted list but does not mutate list\n",
    "\n",
    "l2 = ['Data Science', 'Programming', 'Python', 'Computer Science']\n",
    "sorted(l2)"
   ]
  },
  {
   "cell_type": "code",
   "execution_count": 30,
   "id": "3319449d-5d5f-4019-896e-b9e2771f56d2",
   "metadata": {},
   "outputs": [
    {
     "name": "stdout",
     "output_type": "stream",
     "text": [
      "['Data Science', 'Programming', 'Python', 'Computer Science']\n"
     ]
    }
   ],
   "source": [
    "print(l2)\n",
    "#Note that l2 is still as before"
   ]
  },
  {
   "cell_type": "code",
   "execution_count": 31,
   "id": "161ae665-358e-49c1-9c1b-53d5f94ef728",
   "metadata": {},
   "outputs": [
    {
     "name": "stdout",
     "output_type": "stream",
     "text": [
      "Programming\n",
      "['P', 'r', 'o', 'g', 'r', 'a', 'm', 'm', 'i', 'n', 'g']\n"
     ]
    }
   ],
   "source": [
    "# list: converts a string to a list of characters\n",
    "\n",
    "print(l2[1])\n",
    "l2_new = list(l2[1])\n",
    "print(l2_new)"
   ]
  },
  {
   "cell_type": "code",
   "execution_count": 32,
   "id": "46c52164-07bd-452e-9577-795e2dd817be",
   "metadata": {},
   "outputs": [
    {
     "name": "stdout",
     "output_type": "stream",
     "text": [
      "['Programming', 'is', 'fun']\n"
     ]
    }
   ],
   "source": [
    "# split: breaks a string into words\n",
    "# delimiter: specifies which characters to use as word boundaries \n",
    "    \n",
    "sentence = 'Programming is fun'\n",
    "delimiter = ' '\n",
    "s = sentence.split(delimiter)\n",
    "print(s)"
   ]
  },
  {
   "cell_type": "code",
   "execution_count": 33,
   "id": "da203bc3-82e0-46b3-b411-98753e5bb16a",
   "metadata": {},
   "outputs": [
    {
     "name": "stdout",
     "output_type": "stream",
     "text": [
      "Programming is fun\n"
     ]
    }
   ],
   "source": [
    "# join: puts a space between words\n",
    "# We can also use other delimiter than ' '.\n",
    "\n",
    "s_new = delimiter.join(s)\n",
    "print(s_new)"
   ]
  },
  {
   "cell_type": "code",
   "execution_count": 34,
   "id": "1dc884f1-d10c-4a91-abd1-64d45f8d22c7",
   "metadata": {},
   "outputs": [
    {
     "name": "stdout",
     "output_type": "stream",
     "text": [
      "['eee', 'fff']\n",
      "eee\n",
      "f\n",
      "e\n",
      "f\n"
     ]
    }
   ],
   "source": [
    "list1 = ['a', 'b', ['cc', 'dd', ['eee', 'fff']], 'g', 'h']\n",
    "print(list1[2][2])\n",
    "print(list1[-3][-1][-2])\n",
    "print(list1[-3][-1][-1][-1])\n",
    "print(list1[-3][-1][-2][2])\n",
    "print(list1[-3][-1][-1][-3])"
   ]
  },
  {
   "cell_type": "code",
   "execution_count": 35,
   "id": "33d9c397-4234-4829-af70-64767a1f13f8",
   "metadata": {},
   "outputs": [
    {
     "name": "stdout",
     "output_type": "stream",
     "text": [
      "['Data Science', 'Programming', 'Python', 'Computer Science']\n",
      "['Data Science', 'Programming', 'Python', 'Computer Science', 'Databases']\n",
      "['Data Science', 'Programming', 'Python', 'Computer Science', 'Databases']\n",
      "2408364758784\n",
      "2408364758784\n"
     ]
    }
   ],
   "source": [
    "# Create an alias\n",
    "# Let's set l2_new as an alias for l2\n",
    "\n",
    "print(l2)\n",
    "l2_new = l2\n",
    "l2_new.append('Databases')\n",
    "print(l2)\n",
    "print(l2_new)\n",
    "print(id(l2))\n",
    "print(id(l2_new))"
   ]
  },
  {
   "cell_type": "code",
   "execution_count": 37,
   "id": "a08d4ae3-fd28-4b9b-96a6-e0459d407bad",
   "metadata": {},
   "outputs": [
    {
     "name": "stdout",
     "output_type": "stream",
     "text": [
      "['Data Science', 'Programming', 'Python', 'Computer Science', 'Databases']\n",
      "['Data Science', 'Programming', 'Python', 'Computer Science', 'Databases']\n",
      "2408364758784\n",
      "2408358035584\n"
     ]
    }
   ],
   "source": [
    "print(l2)\n",
    "\n",
    "# Let's clone l2 (i.e., create a new list and copy every element in l2 to the new list)\n",
    "l2_new_new = l2[:]\n",
    "print(l2_new_new)\n",
    "\n",
    "# Understanding the difference between cloning and using alias.\n",
    "print(id(l2))\n",
    "print(id(l2_new_new))"
   ]
  },
  {
   "cell_type": "markdown",
   "id": "61c7d859-0813-440b-9da7-13ce088fdcee",
   "metadata": {},
   "source": [
    "Insert is computationally expensive compared to append because we need to shift elements internally to make room for the new element(s). See the link for information on time complexity."
   ]
  },
  {
   "cell_type": "code",
   "execution_count": 39,
   "id": "9d512e82-1006-43ff-98cf-5c3b7ca4f28f",
   "metadata": {},
   "outputs": [
    {
     "data": {
      "text/plain": [
       "10"
      ]
     },
     "execution_count": 39,
     "metadata": {},
     "output_type": "execute_result"
    }
   ],
   "source": [
    "# sum: adds up the elements of a list\n",
    "l1 = [0, 1, 2, 3, 4]\n",
    "sum(l1)"
   ]
  },
  {
   "cell_type": "code",
   "execution_count": 40,
   "id": "2039cbdf-0aa3-4883-bdf5-45428da9ac2a",
   "metadata": {},
   "outputs": [
    {
     "name": "stdout",
     "output_type": "stream",
     "text": [
      "1\n"
     ]
    }
   ],
   "source": [
    "# pop: modifies the list and returns the element that was removed. If no index is provided, it deletes and returns the last element.\n",
    "item = l1.pop(1)\n",
    "print(item)"
   ]
  },
  {
   "cell_type": "code",
   "execution_count": 41,
   "id": "9d1bbf28-fad3-4d20-8b1f-2d4380f5b4f2",
   "metadata": {},
   "outputs": [
    {
     "name": "stdout",
     "output_type": "stream",
     "text": [
      "[0, 2, 3, 4]\n"
     ]
    }
   ],
   "source": [
    "# Let's check if the list has been modified\n",
    "print(l1)"
   ]
  },
  {
   "cell_type": "code",
   "execution_count": 42,
   "id": "e7c3fa78-e4e9-4eea-9859-c389dddc1140",
   "metadata": {},
   "outputs": [
    {
     "name": "stdout",
     "output_type": "stream",
     "text": [
      "4\n",
      "[0, 2, 3]\n"
     ]
    }
   ],
   "source": [
    "item = l1.pop()\n",
    "print(item)\n",
    "print(l1)"
   ]
  },
  {
   "cell_type": "code",
   "execution_count": 43,
   "id": "e510f72e-a893-4669-935b-14dbbffa2422",
   "metadata": {},
   "outputs": [],
   "source": [
    "# del: if we don't need the popped/deleted item, we can use del to delete an element at the specified index.\n",
    "del l1[1]"
   ]
  },
  {
   "cell_type": "code",
   "execution_count": 44,
   "id": "1928b191-2ceb-46e9-84b1-9e7f6d68a4e6",
   "metadata": {},
   "outputs": [
    {
     "name": "stdout",
     "output_type": "stream",
     "text": [
      "[0, 3]\n"
     ]
    }
   ],
   "source": [
    "print(l1)"
   ]
  },
  {
   "cell_type": "code",
   "execution_count": 45,
   "id": "9c3465ae-6c61-4566-bc16-9fbe3c4b4b18",
   "metadata": {},
   "outputs": [],
   "source": [
    "# remove: if we know the element that we want to remove but not the index.\n",
    "l1.remove(3)"
   ]
  },
  {
   "cell_type": "code",
   "execution_count": 46,
   "id": "896fe51c-cee2-430a-8a02-c675582c1600",
   "metadata": {},
   "outputs": [
    {
     "name": "stdout",
     "output_type": "stream",
     "text": [
      "[0]\n"
     ]
    }
   ],
   "source": [
    "print(l1)"
   ]
  },
  {
   "cell_type": "markdown",
   "id": "022ad233-96c9-4c57-9d17-ed4200450780",
   "metadata": {},
   "source": [
    "## Tuple\n",
    "Tuple:\r\n",
    "\r\n",
    "an ordered sequence of elements, which can be of mix element types\r\n",
    "represented with parentheses"
   ]
  },
  {
   "cell_type": "code",
   "execution_count": 47,
   "id": "3fa53e3c-c7b4-4afe-a9dc-cbd3e232db0e",
   "metadata": {},
   "outputs": [
    {
     "name": "stdout",
     "output_type": "stream",
     "text": [
      "()\n"
     ]
    }
   ],
   "source": [
    "#Empty tuple\n",
    "t1 = tuple()\n",
    "print(t1)"
   ]
  },
  {
   "cell_type": "code",
   "execution_count": 48,
   "id": "3fe047a9-b96d-40a2-a1c6-4b670c09eafa",
   "metadata": {},
   "outputs": [
    {
     "name": "stdout",
     "output_type": "stream",
     "text": [
      "('a', 1, 'cc', 2.5, 'eee')\n"
     ]
    }
   ],
   "source": [
    "# Tuple with five elements\n",
    "t = ('a', 1, 'cc', 2.5, 'eee')\n",
    "print(t)"
   ]
  },
  {
   "cell_type": "code",
   "execution_count": 56,
   "id": "fb25f9c6-a73a-4205-801f-a3a3f7df7ce9",
   "metadata": {},
   "outputs": [
    {
     "name": "stdout",
     "output_type": "stream",
     "text": [
      "('a',)\n"
     ]
    },
    {
     "data": {
      "text/plain": [
       "tuple"
      ]
     },
     "execution_count": 56,
     "metadata": {},
     "output_type": "execute_result"
    }
   ],
   "source": [
    "# To create a tuple with one element, use an extra comma at the end\n",
    "t2 = ('a',)\n",
    "print(t2)\n",
    "type(t2)"
   ]
  },
  {
   "cell_type": "code",
   "execution_count": 57,
   "id": "fec16870-6958-4901-9c83-28ca54d13199",
   "metadata": {},
   "outputs": [
    {
     "name": "stdout",
     "output_type": "stream",
     "text": [
      "a\n"
     ]
    },
    {
     "data": {
      "text/plain": [
       "str"
      ]
     },
     "execution_count": 57,
     "metadata": {},
     "output_type": "execute_result"
    }
   ],
   "source": [
    "# Same tuple but without the comma\n",
    "t2 = ('a')\n",
    "print(t2)\n",
    "type(t2)"
   ]
  },
  {
   "cell_type": "code",
   "execution_count": 58,
   "id": "5d2f194e-9e2f-4c10-986b-c22753c46c7a",
   "metadata": {},
   "outputs": [
    {
     "data": {
      "text/plain": [
       "(1, 2, 3, 4, 5)"
      ]
     },
     "execution_count": 58,
     "metadata": {},
     "output_type": "execute_result"
    }
   ],
   "source": [
    "# Tuple concatenation\n",
    "(1, 2, 3) + (4, 5)"
   ]
  },
  {
   "cell_type": "code",
   "execution_count": 59,
   "id": "415e7f31-3caf-4259-a297-906e1b807224",
   "metadata": {},
   "outputs": [
    {
     "name": "stdout",
     "output_type": "stream",
     "text": [
      "('a', 1, 'cc', 2.5, 'eee')\n",
      "(1,)\n",
      "(1, 'cc')\n"
     ]
    }
   ],
   "source": [
    "# Tuple slices\n",
    "print(t)\n",
    "print(t[1:2])\n",
    "print(t[1:3])"
   ]
  },
  {
   "cell_type": "markdown",
   "id": "ea7acfeb-31ae-4682-ae41-b57f32ef4516",
   "metadata": {},
   "source": [
    "### Tuples are immutable"
   ]
  },
  {
   "cell_type": "code",
   "execution_count": 60,
   "id": "b018b6a8-1802-438b-afdc-4fe983d10692",
   "metadata": {},
   "outputs": [
    {
     "ename": "TypeError",
     "evalue": "'tuple' object does not support item assignment",
     "output_type": "error",
     "traceback": [
      "\u001b[1;31m---------------------------------------------------------------------------\u001b[0m",
      "\u001b[1;31mTypeError\u001b[0m                                 Traceback (most recent call last)",
      "Cell \u001b[1;32mIn[60], line 1\u001b[0m\n\u001b[1;32m----> 1\u001b[0m \u001b[43mt\u001b[49m\u001b[43m[\u001b[49m\u001b[38;5;241;43m0\u001b[39;49m\u001b[43m]\u001b[49m\u001b[38;5;241m=\u001b[39m\u001b[38;5;241m2\u001b[39m\n",
      "\u001b[1;31mTypeError\u001b[0m: 'tuple' object does not support item assignment"
     ]
    }
   ],
   "source": [
    "t[0]=2"
   ]
  },
  {
   "cell_type": "markdown",
   "id": "5df5353b-b039-41be-9b6d-abefa3f766ed",
   "metadata": {},
   "source": [
    "### Tuple operators\n",
    "\n",
    "* +: concatenation\n",
    "* *: repepition\n",
    "* in: returns true if an item exist in the given table\n",
    "* not in: returns true if an item does not exist in the given tuple"
   ]
  },
  {
   "cell_type": "markdown",
   "id": "3e78a5b7-49a2-4ddb-9792-6d93eec896a2",
   "metadata": {},
   "source": [
    "#### Tuple methods\n",
    "1. len(): returns the number of elements in the tuple\n",
    "1. max(): return the highest number in the tuple if the tuple contains numbers, or returns the one that comes last in the alphabetic order if the tuple contains characters.\n",
    "1. min(): return the smallest number in the tuple if the tuple contains numbers, or returns the one that comes first in the alphabetic order if the tuple contains characters."
   ]
  },
  {
   "cell_type": "code",
   "execution_count": 61,
   "id": "76908274-0197-478d-b0fd-d4e381c9405f",
   "metadata": {},
   "outputs": [
    {
     "name": "stdout",
     "output_type": "stream",
     "text": [
      "7\n",
      "9\n"
     ]
    }
   ],
   "source": [
    "x = 9\n",
    "y = 7\n",
    "\n",
    "# To swap the values of x and y, we normally would do: \n",
    "temp = x\n",
    "x = y\n",
    "y = temp\n",
    "\n",
    "print(x)\n",
    "print(y)"
   ]
  },
  {
   "cell_type": "code",
   "execution_count": 65,
   "id": "031729aa-09b9-4616-861d-9363bfde4086",
   "metadata": {},
   "outputs": [
    {
     "name": "stdout",
     "output_type": "stream",
     "text": [
      "9 , 7\n",
      "7\n",
      "9\n"
     ]
    }
   ],
   "source": [
    "x = 9\n",
    "y = 7\n",
    "print(x,\",\",y)\n",
    "# We can use tuple to swap the values of two variables. \n",
    "(x, y) = (y, x)\n",
    "\n",
    "print(x)\n",
    "print(y)"
   ]
  },
  {
   "cell_type": "code",
   "execution_count": 66,
   "id": "e15d6e5f-792d-4733-acd5-07653d3ba2da",
   "metadata": {},
   "outputs": [],
   "source": [
    "# We can use tuple to return more than one value from a function.\n",
    "\n",
    "def quotientRemainder(x, y):\n",
    "    q = x // y\n",
    "    r = x % y\n",
    "    return(q,r)"
   ]
  },
  {
   "cell_type": "code",
   "execution_count": 68,
   "id": "114799d3-c85c-46d4-a72d-3573fe8a9090",
   "metadata": {},
   "outputs": [
    {
     "data": {
      "text/plain": [
       "(3, 1)"
      ]
     },
     "execution_count": 68,
     "metadata": {},
     "output_type": "execute_result"
    }
   ],
   "source": [
    "quotientRemainder(10,3)"
   ]
  },
  {
   "cell_type": "markdown",
   "id": "fa49ec7b-9a4b-4ea1-84d1-d0a54972560d",
   "metadata": {},
   "source": [
    "Set\r\n",
    "The set is a Python implementation of the set in Mathematics.\r\n",
    "A set object contains one or more items, not necessarily of the same type, which are separated by comma and enclosed in curly brackets {}. \r\n",
    "\r\n",
    "set = {value1, value2, value3, ..., val\n",
    "    ueN}\r\n",
    "A set does not store duplicate objects.\r\n",
    "Sets are unordered.\r\n",
    "A set itself may be modified, but the elements contained in the set must be of an immutable type."
   ]
  },
  {
   "cell_type": "code",
   "execution_count": 69,
   "id": "ff558b6e-aeac-4081-9efa-ba35dc71556d",
   "metadata": {},
   "outputs": [
    {
     "name": "stdout",
     "output_type": "stream",
     "text": [
      "{1, 2, 3, 4, 5, 6}\n"
     ]
    }
   ],
   "source": [
    "# A set does not store duplicate objects.\n",
    "# Even if an object is added more than once inside the curly brackets, only one copy is held in the set object.\n",
    "\n",
    "s1 = {1, 2, 2, 3, 4, 5, 5, 6, 6}\n",
    "print(s1)"
   ]
  },
  {
   "cell_type": "code",
   "execution_count": 70,
   "id": "232625e5-b37b-4ba5-8eaf-3008538ac3e8",
   "metadata": {},
   "outputs": [
    {
     "name": "stdout",
     "output_type": "stream",
     "text": [
      "{'P', 'n', 'o', 'h', 't', 'c', 'u', 's', 'e', ' ', 'y', 'r'}\n"
     ]
    }
   ],
   "source": [
    "# Sets are unordered.\n",
    "# Let's test this using set() function.\n",
    "\n",
    "s1 = set(\"Python course\")\n",
    "print(s1)"
   ]
  },
  {
   "cell_type": "code",
   "execution_count": 71,
   "id": "9a55cba5-dd33-40d4-a240-793be67528ba",
   "metadata": {},
   "outputs": [
    {
     "name": "stdout",
     "output_type": "stream",
     "text": [
      "{83, 51, 12}\n",
      "{51, 83, 12}\n",
      "{83, 51, 12}\n"
     ]
    }
   ],
   "source": [
    "s2 = set([12, 51, 83])\n",
    "print(s2)\n",
    "s3 = set([83, 12, 51])\n",
    "print(s3)\n",
    "s4 = set([51, 12, 83])\n",
    "print(s4)"
   ]
  },
  {
   "cell_type": "markdown",
   "id": "1d27cba4-f297-4cad-a07a-2df54539fc57",
   "metadata": {},
   "source": [
    "### Set operations"
   ]
  },
  {
   "cell_type": "code",
   "execution_count": 73,
   "id": "7c0ae7ff-6466-4eff-ada3-ca1c056798af",
   "metadata": {},
   "outputs": [
    {
     "name": "stdout",
     "output_type": "stream",
     "text": [
      "{'P', 'n', 'o', 'h', 't', 'c', 'u', 's', 'e', ' ', 'y', 'r'}\n",
      "{83, 51, 12}\n"
     ]
    },
    {
     "data": {
      "text/plain": [
       "{' ', 12, 51, 83, 'P', 'c', 'e', 'h', 'n', 'o', 'r', 's', 't', 'u', 'y'}"
      ]
     },
     "execution_count": 73,
     "metadata": {},
     "output_type": "execute_result"
    }
   ],
   "source": [
    "# Union of two sets\n",
    "print(s1)\n",
    "print(s2)\n",
    "s1 | s2"
   ]
  },
  {
   "cell_type": "code",
   "execution_count": 74,
   "id": "5e038a11-d784-47ab-85bd-b63f955718f0",
   "metadata": {},
   "outputs": [
    {
     "data": {
      "text/plain": [
       "{' ', 12, 51, 83, 'P', 'c', 'e', 'h', 'n', 'o', 'r', 's', 't', 'u', 'y'}"
      ]
     },
     "execution_count": 74,
     "metadata": {},
     "output_type": "execute_result"
    }
   ],
   "source": [
    "# Union of two sets\n",
    "s1.union(s2)"
   ]
  },
  {
   "cell_type": "code",
   "execution_count": 75,
   "id": "6da8959e-1e87-472c-8821-cda3fb0cd14f",
   "metadata": {},
   "outputs": [
    {
     "data": {
      "text/plain": [
       "set()"
      ]
     },
     "execution_count": 75,
     "metadata": {},
     "output_type": "execute_result"
    }
   ],
   "source": [
    "# Intersection of two sets\n",
    "s1 & s2"
   ]
  },
  {
   "cell_type": "code",
   "execution_count": 76,
   "id": "a8b51f33-4524-4dd2-ac57-937c41b382b1",
   "metadata": {},
   "outputs": [
    {
     "data": {
      "text/plain": [
       "set()"
      ]
     },
     "execution_count": 76,
     "metadata": {},
     "output_type": "execute_result"
    }
   ],
   "source": [
    "# Intersection of two sets\n",
    "s1.intersection(s2)"
   ]
  },
  {
   "cell_type": "code",
   "execution_count": 80,
   "id": "a6bf0684-96d3-447a-8fb5-178795d08e02",
   "metadata": {},
   "outputs": [
    {
     "data": {
      "text/plain": [
       "{' ', 'P', 'c', 'e', 'h', 'n', 'o', 'r', 's', 't', 'u', 'y'}"
      ]
     },
     "execution_count": 80,
     "metadata": {},
     "output_type": "execute_result"
    }
   ],
   "source": [
    "# Difference of two sets\n",
    "s1 - s2"
   ]
  },
  {
   "cell_type": "code",
   "execution_count": 81,
   "id": "fc253cc9-6777-4896-9fc5-c85493b4adfe",
   "metadata": {},
   "outputs": [
    {
     "data": {
      "text/plain": [
       "{12, 51, 83}"
      ]
     },
     "execution_count": 81,
     "metadata": {},
     "output_type": "execute_result"
    }
   ],
   "source": [
    "# Difference of two sets\n",
    "s2 - s1"
   ]
  },
  {
   "cell_type": "code",
   "execution_count": 82,
   "id": "7fac13de-5717-4465-a362-451ec159055a",
   "metadata": {},
   "outputs": [
    {
     "data": {
      "text/plain": [
       "{' ', 'P', 'c', 'e', 'h', 'n', 'o', 'r', 's', 't', 'u', 'y'}"
      ]
     },
     "execution_count": 82,
     "metadata": {},
     "output_type": "execute_result"
    }
   ],
   "source": [
    "# Difference of two sets\n",
    "s1.difference(s2)"
   ]
  },
  {
   "cell_type": "code",
   "execution_count": 83,
   "id": "09f8201b-bbc8-487a-8694-275036751261",
   "metadata": {},
   "outputs": [
    {
     "data": {
      "text/plain": [
       "{12, 51, 83}"
      ]
     },
     "execution_count": 83,
     "metadata": {},
     "output_type": "execute_result"
    }
   ],
   "source": [
    "# Difference of two sets\n",
    "s2.difference(s1)"
   ]
  },
  {
   "cell_type": "code",
   "execution_count": 84,
   "id": "2e4a44e0-428d-4212-8479-facb9bb1b2c9",
   "metadata": {},
   "outputs": [
    {
     "data": {
      "text/plain": [
       "{' ', 12, 51, 83, 'P', 'c', 'e', 'h', 'n', 'o', 'r', 's', 't', 'u', 'y'}"
      ]
     },
     "execution_count": 84,
     "metadata": {},
     "output_type": "execute_result"
    }
   ],
   "source": [
    "# Symmetric difference\n",
    "s1^s2"
   ]
  },
  {
   "cell_type": "code",
   "execution_count": 85,
   "id": "9ca92e6d-bd98-4a57-81b4-abe603511e55",
   "metadata": {},
   "outputs": [
    {
     "data": {
      "text/plain": [
       "{' ', 12, 51, 83, 'P', 'c', 'e', 'h', 'n', 'o', 'r', 's', 't', 'u', 'y'}"
      ]
     },
     "execution_count": 85,
     "metadata": {},
     "output_type": "execute_result"
    }
   ],
   "source": [
    "# Symmetric difference (a set of elements that are in either set, but not in their intersection)\n",
    "s1.symmetric_difference(s2)"
   ]
  },
  {
   "cell_type": "code",
   "execution_count": 86,
   "id": "210c4927-47c0-4bb9-a5b6-cbfd2746e8b1",
   "metadata": {},
   "outputs": [
    {
     "name": "stdout",
     "output_type": "stream",
     "text": [
      "{'Computer Science', 'Programming', 'Python', 'Databases'}\n"
     ]
    }
   ],
   "source": [
    "# add: Adds a new element in the set object\n",
    "s1 = {'Programming', 'Databases', 'Computer Science'}\n",
    "s1.add('Python')\n",
    "print(s1)"
   ]
  },
  {
   "cell_type": "code",
   "execution_count": 87,
   "id": "25892efc-4ccf-4d70-9146-6b3f9a5a3029",
   "metadata": {},
   "outputs": [
    {
     "name": "stdout",
     "output_type": "stream",
     "text": [
      "{'Python', 'Data Science', 'Databases', 'AI', 'Computer Science', 'Programming'}\n"
     ]
    }
   ],
   "source": [
    "# update: Adds multiple items from a list or a tuple\n",
    "s1.update(['Data Science', 'AI'])\n",
    "print(s1)"
   ]
  },
  {
   "cell_type": "code",
   "execution_count": 88,
   "id": "b843c8b1-65ba-4a39-a5a8-3dec0c933a2c",
   "metadata": {},
   "outputs": [
    {
     "name": "stdout",
     "output_type": "stream",
     "text": [
      "{'Computer Science', 'Python', 'Data Science', 'Databases', 'Programming', 'AI'}\n"
     ]
    }
   ],
   "source": [
    "# copy: Creates a copy of the set object\n",
    "s2 = s1.copy()\n",
    "print(s2)"
   ]
  },
  {
   "cell_type": "code",
   "execution_count": 89,
   "id": "dadbbc00-0e16-4ea6-b1ef-5b83f112c4ca",
   "metadata": {},
   "outputs": [
    {
     "name": "stdout",
     "output_type": "stream",
     "text": [
      "set()\n"
     ]
    }
   ],
   "source": [
    "# clear: Removes the contents of a set object and results in an empty set.\n",
    "s2.clear()\n",
    "print(s2)"
   ]
  },
  {
   "cell_type": "code",
   "execution_count": 92,
   "id": "3fc1ac5f-95e6-4365-aaf3-3af60799c5d1",
   "metadata": {},
   "outputs": [
    {
     "name": "stdout",
     "output_type": "stream",
     "text": [
      "{'Python', 'Data Science', 'Databases', 'AI', 'Programming'}\n",
      "{'Python', 'Data Science', 'Databases', 'AI', 'Programming'}\n"
     ]
    }
   ],
   "source": [
    "# discard: Removes an item from a set and returns the new set. No changes are done if the item to be removed is not present.\n",
    "print(s1)\n",
    "s1.discard('Computer Science')\n",
    "print(s1)"
   ]
  },
  {
   "cell_type": "code",
   "execution_count": 94,
   "id": "4bfc6a26-f25a-49f0-a613-f9a8fc1245a2",
   "metadata": {},
   "outputs": [
    {
     "ename": "KeyError",
     "evalue": "'Databases'",
     "output_type": "error",
     "traceback": [
      "\u001b[1;31m---------------------------------------------------------------------------\u001b[0m",
      "\u001b[1;31mKeyError\u001b[0m                                  Traceback (most recent call last)",
      "Cell \u001b[1;32mIn[94], line 2\u001b[0m\n\u001b[0;32m      1\u001b[0m \u001b[38;5;66;03m# remove: Removes an item from a set and returns the new set. Results in an error if the item to be removed is not present.\u001b[39;00m\n\u001b[1;32m----> 2\u001b[0m \u001b[43ms1\u001b[49m\u001b[38;5;241;43m.\u001b[39;49m\u001b[43mremove\u001b[49m\u001b[43m(\u001b[49m\u001b[38;5;124;43m'\u001b[39;49m\u001b[38;5;124;43mDatabases\u001b[39;49m\u001b[38;5;124;43m'\u001b[39;49m\u001b[43m)\u001b[49m\n\u001b[0;32m      3\u001b[0m \u001b[38;5;28mprint\u001b[39m(s1)\n",
      "\u001b[1;31mKeyError\u001b[0m: 'Databases'"
     ]
    }
   ],
   "source": [
    "# remove: Removes an item from a set and returns the new set. Results in an error if the item to be removed is not present.\n",
    "s1.remove('Databases')\n",
    "print(s1)"
   ]
  },
  {
   "cell_type": "code",
   "execution_count": 95,
   "id": "bb7bc050-e659-4ca8-9e4b-de70b2bc9490",
   "metadata": {},
   "outputs": [
    {
     "data": {
      "text/plain": [
       "set()"
      ]
     },
     "execution_count": 95,
     "metadata": {},
     "output_type": "execute_result"
    }
   ],
   "source": [
    "{'b', 'a', 'r'} & set('qux')"
   ]
  },
  {
   "cell_type": "markdown",
   "id": "59a86ecb-8f1d-48bf-8ced-4047f51d6c26",
   "metadata": {},
   "source": [
    "#### Frozen Sets\r\n",
    "A frozen set is just like a set, except that a frozenset is immutable.\r\n",
    "You can perform non-modifying operations on frozensets."
   ]
  },
  {
   "cell_type": "code",
   "execution_count": 1,
   "id": "ae8eccf3-8e89-4adc-a18c-92265645bd4d",
   "metadata": {},
   "outputs": [
    {
     "data": {
      "text/plain": [
       "frozenset({1, 2, 3, 4, 5, 6})"
      ]
     },
     "execution_count": 1,
     "metadata": {},
     "output_type": "execute_result"
    }
   ],
   "source": [
    "# To create a frozen set\n",
    "fs1 = frozenset({6, 2, 3, 3, 3, 4, 5, 5, 1})\n",
    "fs1"
   ]
  },
  {
   "cell_type": "code",
   "execution_count": 2,
   "id": "70beda11-7a94-410a-ba7c-f1d869cdb40a",
   "metadata": {},
   "outputs": [
    {
     "ename": "AttributeError",
     "evalue": "'frozenset' object has no attribute 'clear'",
     "output_type": "error",
     "traceback": [
      "\u001b[1;31m---------------------------------------------------------------------------\u001b[0m",
      "\u001b[1;31mAttributeError\u001b[0m                            Traceback (most recent call last)",
      "Cell \u001b[1;32mIn[2], line 1\u001b[0m\n\u001b[1;32m----> 1\u001b[0m \u001b[43mfs1\u001b[49m\u001b[38;5;241;43m.\u001b[39;49m\u001b[43mclear\u001b[49m()\n\u001b[0;32m      2\u001b[0m fs1\n",
      "\u001b[1;31mAttributeError\u001b[0m: 'frozenset' object has no attribute 'clear'"
     ]
    }
   ],
   "source": [
    "fs1.clear()\n",
    "fs1"
   ]
  },
  {
   "cell_type": "code",
   "execution_count": 3,
   "id": "0c797351-03cd-4402-a99f-33019f86263e",
   "metadata": {},
   "outputs": [
    {
     "data": {
      "text/plain": [
       "frozenset({'a', 'b', 'c'})"
      ]
     },
     "execution_count": 3,
     "metadata": {},
     "output_type": "execute_result"
    }
   ],
   "source": [
    "fs2 = frozenset({'a', 'b', 'c'})\n",
    "fs2"
   ]
  },
  {
   "cell_type": "code",
   "execution_count": 4,
   "id": "98e83f8d-78a8-4fa7-80d7-8e421d271afe",
   "metadata": {},
   "outputs": [
    {
     "data": {
      "text/plain": [
       "frozenset({1, 2, 3, 4, 5, 6})"
      ]
     },
     "execution_count": 4,
     "metadata": {},
     "output_type": "execute_result"
    }
   ],
   "source": [
    "fs1.difference(fs2)"
   ]
  },
  {
   "cell_type": "code",
   "execution_count": 6,
   "id": "5b161f82-ab9a-4835-a54c-e95b453ff690",
   "metadata": {},
   "outputs": [
    {
     "data": {
      "text/plain": [
       "frozenset()"
      ]
     },
     "execution_count": 6,
     "metadata": {},
     "output_type": "execute_result"
    }
   ],
   "source": [
    "fs1.intersection(fs2)"
   ]
  },
  {
   "cell_type": "code",
   "execution_count": 7,
   "id": "f35b6c2d-aa35-414b-b8a9-f430f4d4be65",
   "metadata": {},
   "outputs": [
    {
     "data": {
      "text/plain": [
       "frozenset({1, 2, 3, 4, 5, 6, 'a', 'b', 'c'})"
      ]
     },
     "execution_count": 7,
     "metadata": {},
     "output_type": "execute_result"
    }
   ],
   "source": [
    "fs1.union(fs2)"
   ]
  },
  {
   "cell_type": "code",
   "execution_count": 8,
   "id": "bb53adbe-5d18-422f-b94c-84a1b9e74487",
   "metadata": {},
   "outputs": [],
   "source": [
    "fs3 = frozenset({'d', 'e', 'c'})"
   ]
  },
  {
   "cell_type": "code",
   "execution_count": 9,
   "id": "c3fa4890-eba9-41bb-9caa-0628d8167cc9",
   "metadata": {},
   "outputs": [
    {
     "name": "stdout",
     "output_type": "stream",
     "text": [
      "False\n",
      "frozenset({'b', 'a', 'd', 'e'})\n",
      "False\n",
      "False\n",
      "3\n"
     ]
    }
   ],
   "source": [
    "print(fs2.isdisjoint(fs3))\n",
    "print(fs2.symmetric_difference(fs3))\n",
    "print(fs2.issubset(fs3))\n",
    "print(fs2.issuperset(fs3))\n",
    "print(len(fs3))"
   ]
  },
  {
   "cell_type": "markdown",
   "id": "36b171ca-5cfb-4425-8a3f-9791242f2077",
   "metadata": {},
   "source": [
    "Frozenset is used when we want the content to be fixed."
   ]
  },
  {
   "cell_type": "code",
   "execution_count": 10,
   "id": "8662fcef-99d9-47cf-9f1e-d89f265703a8",
   "metadata": {},
   "outputs": [
    {
     "name": "stdout",
     "output_type": "stream",
     "text": [
      "{'h', frozenset({'c', 'd', 'e'}), 'g'}\n"
     ]
    }
   ],
   "source": [
    "s_fs = {'g', 'h', fs3}\n",
    "print(s_fs)"
   ]
  },
  {
   "cell_type": "code",
   "execution_count": 11,
   "id": "3ec8643e-0fb1-4196-9ae8-f70e917cdd25",
   "metadata": {},
   "outputs": [
    {
     "ename": "TypeError",
     "evalue": "unhashable type: 'set'",
     "output_type": "error",
     "traceback": [
      "\u001b[1;31m---------------------------------------------------------------------------\u001b[0m",
      "\u001b[1;31mTypeError\u001b[0m                                 Traceback (most recent call last)",
      "Cell \u001b[1;32mIn[11], line 1\u001b[0m\n\u001b[1;32m----> 1\u001b[0m s_fs_new \u001b[38;5;241m=\u001b[39m {\u001b[38;5;124m'\u001b[39m\u001b[38;5;124mg\u001b[39m\u001b[38;5;124m'\u001b[39m, \u001b[38;5;124m'\u001b[39m\u001b[38;5;124mh\u001b[39m\u001b[38;5;124m'\u001b[39m, {\u001b[38;5;241m1\u001b[39m, \u001b[38;5;241m2\u001b[39m, \u001b[38;5;241m3\u001b[39m, \u001b[38;5;241m4\u001b[39m, \u001b[38;5;241m5\u001b[39m, \u001b[38;5;241m6\u001b[39m, \u001b[38;5;124m'\u001b[39m\u001b[38;5;124ma\u001b[39m\u001b[38;5;124m'\u001b[39m, \u001b[38;5;124m'\u001b[39m\u001b[38;5;124mb\u001b[39m\u001b[38;5;124m'\u001b[39m, \u001b[38;5;124m'\u001b[39m\u001b[38;5;124mc\u001b[39m\u001b[38;5;124m'\u001b[39m}}\n\u001b[0;32m      2\u001b[0m \u001b[38;5;28mprint\u001b[39m(s_fs_new)\n",
      "\u001b[1;31mTypeError\u001b[0m: unhashable type: 'set'"
     ]
    }
   ],
   "source": [
    "s_fs_new = {'g', 'h', {1, 2, 3, 4, 5, 6, 'a', 'b', 'c'}}\n",
    "print(s_fs_new)"
   ]
  },
  {
   "cell_type": "markdown",
   "id": "f8bd40ee-9a91-4741-aba6-607ae42dff6f",
   "metadata": {},
   "source": [
    "## Dictionary\r\n",
    "A dictionary is like a list:\r\n",
    "\r\n",
    "List: indices have to be integers\r\n",
    "Dictionary: indices can be of any type\r\n",
    "Dictionary allows mapping between a set of indices (keys) and a set of values. Each key maps to a value.\r\n",
    "\r\n",
    "The association of a key and a value is called a key-value pair."
   ]
  },
  {
   "cell_type": "code",
   "execution_count": 12,
   "id": "229eea96-6cf4-4a16-9133-086738f41929",
   "metadata": {},
   "outputs": [
    {
     "name": "stdout",
     "output_type": "stream",
     "text": [
      "{'one': 'ett', 'two': 'två', 'three': 'tre'}\n",
      "två\n"
     ]
    }
   ],
   "source": [
    "eng2sv = dict()\n",
    "eng2sv = {'one': 'ett', 'two': 'två', 'three': 'tre'}\n",
    "print(eng2sv)\n",
    "print(eng2sv['two'])"
   ]
  },
  {
   "cell_type": "code",
   "execution_count": 13,
   "id": "9c3118d7-2e29-4e9e-acda-a9c0b350be7b",
   "metadata": {},
   "outputs": [
    {
     "name": "stdout",
     "output_type": "stream",
     "text": [
      "{'one': 'ett', 'two': 'två', 'three': 'tre'}\n",
      "två\n"
     ]
    }
   ],
   "source": [
    "eng2sv2 = {}\n",
    "eng2sv2 = {'one': 'ett', 'two': 'två', 'three': 'tre'}\n",
    "print(eng2sv2)\n",
    "print(eng2sv2['two'])"
   ]
  },
  {
   "cell_type": "markdown",
   "id": "0ae6d3cd-583c-46a1-94b7-ee3592bb4d90",
   "metadata": {},
   "source": [
    "### Dictionary methods"
   ]
  },
  {
   "cell_type": "code",
   "execution_count": 14,
   "id": "110ead15-3250-4e0a-a858-a33847ba7a21",
   "metadata": {},
   "outputs": [
    {
     "data": {
      "text/plain": [
       "3"
      ]
     },
     "execution_count": 14,
     "metadata": {},
     "output_type": "execute_result"
    }
   ],
   "source": [
    "# len: returns the number of key-value pairs\n",
    "len(eng2sv)"
   ]
  },
  {
   "cell_type": "code",
   "execution_count": 15,
   "id": "a847bacf-9aa2-40fc-a6da-156eca4d837f",
   "metadata": {},
   "outputs": [
    {
     "data": {
      "text/plain": [
       "True"
      ]
     },
     "execution_count": 15,
     "metadata": {},
     "output_type": "execute_result"
    }
   ],
   "source": [
    "# in: checks if the item appears as a key in the dictionary\n",
    "'one' in eng2sv"
   ]
  },
  {
   "cell_type": "code",
   "execution_count": 16,
   "id": "116ba8e2-4af0-4295-9137-e3ba1a1a625f",
   "metadata": {},
   "outputs": [
    {
     "data": {
      "text/plain": [
       "dict_keys(['one', 'two', 'three'])"
      ]
     },
     "execution_count": 16,
     "metadata": {},
     "output_type": "execute_result"
    }
   ],
   "source": [
    "k = eng2sv.keys()\n",
    "k"
   ]
  },
  {
   "cell_type": "code",
   "execution_count": 17,
   "id": "81d825a1-ee37-40d6-8a61-8593bb8667ba",
   "metadata": {},
   "outputs": [
    {
     "data": {
      "text/plain": [
       "dict_values(['ett', 'två', 'tre'])"
      ]
     },
     "execution_count": 17,
     "metadata": {},
     "output_type": "execute_result"
    }
   ],
   "source": [
    "# value: returns the values as a list\n",
    "v = eng2sv.values()\n",
    "v"
   ]
  },
  {
   "cell_type": "markdown",
   "id": "d583d0e2-66a5-4bb0-bc16-e2076b48be12",
   "metadata": {},
   "source": [
    "To get the keys in a dict: \n",
    "> x = dict.keys()\n",
    "\n",
    "To get the values in a dict:\n",
    "> x = dict.values()\n"
   ]
  },
  {
   "cell_type": "code",
   "execution_count": 18,
   "id": "4f275cc0-86c3-42d4-9527-18b1e40d87f1",
   "metadata": {},
   "outputs": [
    {
     "data": {
      "text/plain": [
       "dict_items([('one', 'ett'), ('two', 'två'), ('three', 'tre')])"
      ]
     },
     "execution_count": 18,
     "metadata": {},
     "output_type": "execute_result"
    }
   ],
   "source": [
    "# get the items\n",
    "dict_items = eng2sv.items()\n",
    "dict_items"
   ]
  },
  {
   "cell_type": "code",
   "execution_count": 19,
   "id": "3950ed1c-875d-483a-95f0-8b0dd094953f",
   "metadata": {},
   "outputs": [
    {
     "data": {
      "text/plain": [
       "'ett'"
      ]
     },
     "execution_count": 19,
     "metadata": {},
     "output_type": "execute_result"
    }
   ],
   "source": [
    "# get the value of a specific item with a specific key\n",
    "v1 = eng2sv.get('one')\n",
    "v1"
   ]
  },
  {
   "cell_type": "code",
   "execution_count": 20,
   "id": "2a24e273-13f4-4768-b407-e98b58d06086",
   "metadata": {},
   "outputs": [
    {
     "data": {
      "text/plain": [
       "'None'"
      ]
     },
     "execution_count": 20,
     "metadata": {},
     "output_type": "execute_result"
    }
   ],
   "source": [
    "# get the value of a specific item with a specific key, if that key does not exist, return 'None'\n",
    "v2 = eng2sv.get('four', 'None')\n",
    "v2"
   ]
  },
  {
   "cell_type": "markdown",
   "id": "20adde90-25f1-44ea-ace3-b867b1bdab64",
   "metadata": {},
   "source": [
    "### Dictionary as a set of counters\r\n",
    "An advantage of the dictionary implementation is that we do not have to know ahead of time which letters appear in the string.\r\n",
    "We only have to make room for the letters that appear."
   ]
  },
  {
   "cell_type": "code",
   "execution_count": 25,
   "id": "11aca706-7565-40ec-9d37-1db120bfbf50",
   "metadata": {},
   "outputs": [
    {
     "name": "stdout",
     "output_type": "stream",
     "text": [
      "{'D': 1, 'a': 2, 't': 1, ' ': 1, 'S': 1, 'c': 2, 'i': 1, 'e': 2, 'n': 1}\n"
     ]
    }
   ],
   "source": [
    "def histogram(i):\n",
    "    d = dict()\n",
    "    for c in i:\n",
    "        if c not in d:\n",
    "            d[c] = 1\n",
    "        else:\n",
    "            d[c] += 1\n",
    "    return d\n",
    "\n",
    "h = histogram('Data Science')\n",
    "print(h)"
   ]
  },
  {
   "cell_type": "markdown",
   "id": "acca4f90-d002-40ed-a06d-03f7ad867d19",
   "metadata": {},
   "source": [
    "### Looping and dictionaries\r\n",
    "If we use a dictionary in a \"for\" statement, the \"for\" statement traverses the \"keys\" of the dictionary."
   ]
  },
  {
   "cell_type": "code",
   "execution_count": 22,
   "id": "6c9be4e5-6278-43e3-9af4-0c2ecc3f6e7a",
   "metadata": {},
   "outputs": [
    {
     "name": "stdout",
     "output_type": "stream",
     "text": [
      "D 1\n",
      "a 2\n",
      "t 1\n",
      "  1\n",
      "S 1\n",
      "c 2\n",
      "i 1\n",
      "e 2\n",
      "n 1\n"
     ]
    }
   ],
   "source": [
    "def print_hist(h):\n",
    "    for c in h:\n",
    "        print(c, h[c])\n",
    "        \n",
    "print_hist(h)"
   ]
  },
  {
   "cell_type": "code",
   "execution_count": 26,
   "id": "20dba5cf-07a8-461b-a940-5934c08b9ef5",
   "metadata": {},
   "outputs": [
    {
     "ename": "TypeError",
     "evalue": "unhashable type: 'slice'",
     "output_type": "error",
     "traceback": [
      "\u001b[1;31m---------------------------------------------------------------------------\u001b[0m",
      "\u001b[1;31mTypeError\u001b[0m                                 Traceback (most recent call last)",
      "Cell \u001b[1;32mIn[26], line 2\u001b[0m\n\u001b[0;32m      1\u001b[0m d \u001b[38;5;241m=\u001b[39m {\u001b[38;5;124m'\u001b[39m\u001b[38;5;124ma\u001b[39m\u001b[38;5;124m'\u001b[39m: \u001b[38;5;241m10\u001b[39m, \u001b[38;5;124m'\u001b[39m\u001b[38;5;124mb\u001b[39m\u001b[38;5;124m'\u001b[39m: \u001b[38;5;241m20\u001b[39m, \u001b[38;5;124m'\u001b[39m\u001b[38;5;124mc\u001b[39m\u001b[38;5;124m'\u001b[39m: \u001b[38;5;241m30\u001b[39m}\n\u001b[1;32m----> 2\u001b[0m \u001b[43md\u001b[49m\u001b[43m[\u001b[49m\u001b[38;5;124;43m'\u001b[39;49m\u001b[38;5;124;43mb\u001b[39;49m\u001b[38;5;124;43m'\u001b[39;49m\u001b[43m:\u001b[49m\u001b[38;5;124;43m'\u001b[39;49m\u001b[38;5;124;43mc\u001b[39;49m\u001b[38;5;124;43m'\u001b[39;49m\u001b[43m]\u001b[49m\n",
      "\u001b[1;31mTypeError\u001b[0m: unhashable type: 'slice'"
     ]
    }
   ],
   "source": [
    "d = {'a': 10, 'b': 20, 'c': 30}\n",
    "d['b':'c']"
   ]
  },
  {
   "cell_type": "markdown",
   "id": "161b3630-0160-4f28-bf71-a907fda1d37b",
   "metadata": {},
   "source": [
    "You can not slice a dict"
   ]
  },
  {
   "cell_type": "markdown",
   "id": "11be6a1d-deb1-4fb5-a6d5-3f8fbbaa6240",
   "metadata": {},
   "source": [
    "### Arrays\n",
    "\n",
    "Arrays in Python are a compact way of collecting basic data types. All the entries in an array must be of the same data type.\n",
    "\n",
    "Arrays are not all that popular in Python, unlike the other programming languages such as C++ or Java.\n",
    "For Python, you need to import a module named \"array\".\n",
    "\n",
    "array(data type, value list): create an array with data type and value list specified in its arguments.\n",
    "\n",
    "#### Methods\n",
    "We can apply the following methods on arrays:\n",
    "\n",
    "* append(): adds the value mentioned in its arguments at the end of the array\n",
    "* insert(i, x): adds the value at the position specified in its argument\n",
    "* pop(): removes the element at the position mentioned in its argument and returns it\n",
    "* remove(): removes the first occurence of the value mentioned in its arguments\n",
    "* index(): returns the index of the first occurences of value mentioned in arguments\n",
    "* reverse(): reverses the array"
   ]
  },
  {
   "cell_type": "code",
   "execution_count": 36,
   "id": "8e69fdcc-2fda-4d38-8d5b-71b77d90dda1",
   "metadata": {},
   "outputs": [
    {
     "name": "stdout",
     "output_type": "stream",
     "text": [
      "The new created array is: 1 5 8 \n",
      "The appended array is: 1 5 8 0 \n",
      "The array after insertion is:1 5 8 7 0 "
     ]
    }
   ],
   "source": [
    "import array\n",
    "\n",
    "# 'i' indicates that the contents are of type integers.\n",
    "arr = array.array('i', [1, 5, 8]) \n",
    "arr\n",
    "\n",
    "print(\"The new created array is: \", end = \"\")\n",
    "# Optional. Specify what to print at the end. Default is '\\n' (line feed) \n",
    "for i in range(0,3):\n",
    "    print(arr[i], end = \" \")\n",
    "    \n",
    "print(\"\\r\")\n",
    "arr.append(0);\n",
    "print(\"The appended array is:\", end = \" \")\n",
    "for i in range(0, 4):\n",
    "    print(arr[i], end = \" \")\n",
    "\n",
    "print(\"\\r\")\n",
    "arr.insert(3,7)\n",
    "print(\"The array after insertion is:\", end = \"\")\n",
    "for i in range (0, 5):\n",
    "    print(arr[i], end = \" \")"
   ]
  },
  {
   "cell_type": "code",
   "execution_count": 37,
   "id": "699e2f41-90a6-4fb3-bb65-10e94d9d3d71",
   "metadata": {},
   "outputs": [
    {
     "name": "stdout",
     "output_type": "stream",
     "text": [
      "The popped element is: 8\n",
      "The array after popping is: 1 5 7 0 \n",
      "The array after removing is: 0 7 5 "
     ]
    }
   ],
   "source": [
    "print(\"The popped element is: \", end = \"\")\n",
    "print(arr.pop(2));\n",
    "print(\"The array after popping is: \", end = \"\")\n",
    "for i in range(0, 4):\n",
    "    print(arr[i], end = \" \")\n",
    "\n",
    "print(\"\\r\")\n",
    "arr.remove(1)\n",
    "arr.reverse()\n",
    "print(\"The array after removing is: \", end = \"\")\n",
    "for i in range(0, 3):\n",
    "    print(arr[i], end = \" \")"
   ]
  },
  {
   "cell_type": "markdown",
   "id": "b4b7f20d-cd24-44d5-bef1-2d099f2da8a2",
   "metadata": {},
   "source": [
    "### NumPy arrays\n",
    "* provide a high-performance multidimensional array object, and tools for working with these arrays\n",
    "* NumPy's library of algorithms, written in C, can operate on this memory without any type checking or other overhead\n",
    "* use much less memory than built-in Python sequences\n",
    "* NumPy operations perform complex computations on entire arrays without the need for Python loops"
   ]
  },
  {
   "cell_type": "code",
   "execution_count": 38,
   "id": "73b23013-5976-4e3b-b02d-cc24abb60724",
   "metadata": {},
   "outputs": [],
   "source": [
    "# np is the commonly used alias for numpy\n",
    "import numpy as np"
   ]
  },
  {
   "cell_type": "code",
   "execution_count": 39,
   "id": "033a8cdd-5dc6-4c82-9527-b8dfb45489c8",
   "metadata": {},
   "outputs": [
    {
     "data": {
      "text/plain": [
       "array([1, 2, 3, 4, 5])"
      ]
     },
     "execution_count": 39,
     "metadata": {},
     "output_type": "execute_result"
    }
   ],
   "source": [
    "# create array of integers\n",
    "np.array([1, 2, 3, 4, 5])"
   ]
  },
  {
   "cell_type": "code",
   "execution_count": 40,
   "id": "4916d8ee-d5b0-49e2-a8f1-fc29bf521c58",
   "metadata": {},
   "outputs": [
    {
     "data": {
      "text/plain": [
       "array(['1', 'like', 'Python', '2'], dtype='<U11')"
      ]
     },
     "execution_count": 40,
     "metadata": {},
     "output_type": "execute_result"
    }
   ],
   "source": [
    "# create an array containing items of different types\n",
    "# what happens?\n",
    "np.array([1, 'like', 'Python', 2])"
   ]
  },
  {
   "cell_type": "markdown",
   "id": "67d83d6c-fb98-4bf0-9e4c-beb207e64bea",
   "metadata": {},
   "source": [
    "## Which data type to use in your program?\n",
    "### Arrays vs Lists\n",
    "* Lists can hold homogeneous items, similar to arrays\n",
    "\n",
    "* Fundamentally different in terms of the operations that can be performed on them.\n",
    "\n",
    "    * Arrays: operations can be performed on all its item individually\n",
    "    * Lists: cannot perform operations on all its item individually\n",
    "* Arrays\n",
    "\n",
    "    * Need to be declared\n",
    "    * Very useful when dealing with a large collection of homogeneous data types. Arrays may be faster and uses less memory when compared to lists\n",
    "    * Are great for numerical operations\n",
    "* Lists:\n",
    "\n",
    "* Provides a large set of operations for managing the items contained in the list (inserting, searching, removing, extracting a subset of items, and sorting). The array structure only provides a limited set of operations for accessing the individual elements.\n",
    "\n",
    "### Tuples vs Lists\n",
    "* Tuples are immutable. This might be useful in situations where we might pass the control to someone else but we do not want them to manipulate data in our collection.\n",
    "### Sets vs lists\n",
    "* Sets are a collection of distinct (unique) objects.\n",
    "* These are useful to create lists that only hold unique values in the dataset.\n",
    "* It is an unordered collection but a mutable one. This is very helpful when going through a huge dataset.\n",
    "### Dictionary\n",
    "* Dictionaries are useful when we need something similar to a telephone book.\n",
    "* Dictionaries contain key-value pairs instead of just single elements."
   ]
  },
  {
   "cell_type": "code",
   "execution_count": null,
   "id": "57b060d5-7058-4d76-ac76-eaaf058e6970",
   "metadata": {},
   "outputs": [],
   "source": []
  }
 ],
 "metadata": {
  "kernelspec": {
   "display_name": "Python 3 (ipykernel)",
   "language": "python",
   "name": "python3"
  },
  "language_info": {
   "codemirror_mode": {
    "name": "ipython",
    "version": 3
   },
   "file_extension": ".py",
   "mimetype": "text/x-python",
   "name": "python",
   "nbconvert_exporter": "python",
   "pygments_lexer": "ipython3",
   "version": "3.8.10"
  }
 },
 "nbformat": 4,
 "nbformat_minor": 5
}
