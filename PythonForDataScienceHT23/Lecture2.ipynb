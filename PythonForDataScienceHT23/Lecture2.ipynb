{
 "cells": [
  {
   "cell_type": "markdown",
   "metadata": {},
   "source": [
    "# Lecture 2\n",
    "### Branching and Iteration\n",
    "By default, statements in the script are executed sequentially from the first to the last. The sequential flow can be altered in two ways:\n",
    "\n",
    "conditional execution\n",
    "repetitive execution\n",
    "See also More control flow tools\n",
    "\n",
    "Control Flow-Branching\n",
    "if Statements\n",
    "if <condition>:\n",
    "    <expression>\n",
    "    <expression>\n",
    "    ...\n",
    "elif <condition>:\n",
    "    <expression>\n",
    "    <expression>\n",
    "    ...\n",
    "else: \n",
    "    <expression>\n",
    "    <expression>\n",
    "    ...\n",
    "<condition> has a value True or False\n",
    "\n",
    "* '>': greater\n",
    "* <: less\n",
    "* '>'=: greater than or equal\n",
    "* <=: less than or equal\n",
    "* ==: equal\n",
    "* !=: not equal\n",
    "\n",
    "A block of expressions is executed if the <condition> is True.\n",
    "There can be zero or more elif. The elif condition is used to include multiple conditional expressions between if and else.\n",
    "There can be zero or one else."
   ]
  },
  {
   "cell_type": "code",
   "execution_count": 1,
   "metadata": {},
   "outputs": [
    {
     "name": "stdout",
     "output_type": "stream",
     "text": [
      "Enter a number for x: 2\n",
      "Enter a number for y: 2\n",
      "Enter a desired arithmetic operation ('+', '-', '/', '*'): +\n",
      "x plus y is equal to  4.0\n",
      "That is it!\n"
     ]
    }
   ],
   "source": [
    "x = float(input(\"Enter a number for x: \"))\n",
    "y = float(input(\"Enter a number for y: \"))\n",
    "op = input(\"Enter a desired arithmetic operation ('+', '-', '/', '*'): \")\n",
    "\n",
    "# Indentation in Python helps to denote blocks of code.\n",
    "if  op == '+':\n",
    "    print('x plus y is equal to ', x + y)\n",
    "elif op == '-':\n",
    "    print('x minus y is equal to', x - y)\n",
    "elif op == '*':\n",
    "    print('x multiplied by y is equal to', x * y)\n",
    "elif op == '/':\n",
    "    if y == 0:\n",
    "        print('Error: division by 0.')\n",
    "    else: \n",
    "        print('x divided by y is equal to', x/y)\n",
    "\n",
    "print('That is it!')"
   ]
  },
  {
   "cell_type": "code",
   "execution_count": 9,
   "metadata": {},
   "outputs": [
    {
     "name": "stdout",
     "output_type": "stream",
     "text": [
      "Enter a number for x: -1\n"
     ]
    }
   ],
   "source": [
    "# We can put if condition and the statement_when_true on the same line.\n",
    "\n",
    "x = int(input(\"Enter a number for x: \"))\n",
    "if x>0: print(\"x is a positive number!\"), print (\"What about y?\")"
   ]
  },
  {
   "cell_type": "code",
   "execution_count": 5,
   "metadata": {},
   "outputs": [
    {
     "name": "stdout",
     "output_type": "stream",
     "text": [
      "Enter a number for x: 3\n",
      "(0, None)\n",
      "<class 'tuple'>\n"
     ]
    }
   ],
   "source": [
    "# But be careful! See this example.\n",
    "\n",
    "x = int(input(\"Enter a number for x: \"))\n",
    "if x>0: y = 0, print (y), print(type(y))"
   ]
  },
  {
   "cell_type": "code",
   "execution_count": 8,
   "metadata": {},
   "outputs": [
    {
     "name": "stdout",
     "output_type": "stream",
     "text": [
      "Enter a number for x: 100\n",
      "0\n"
     ]
    }
   ],
   "source": [
    "x = int(input(\"Enter a number for x: \"))\n",
    "if x>0: \n",
    "    y = 0\n",
    "    print (y)"
   ]
  },
  {
   "cell_type": "code",
   "execution_count": 10,
   "metadata": {},
   "outputs": [
    {
     "name": "stdout",
     "output_type": "stream",
     "text": [
      "Enter a number for x: 1\n",
      "Enter a number for y: 2\n",
      "x is not greater than y!\n"
     ]
    }
   ],
   "source": [
    "# We can put the statement_when_true, the if condition, and the else statement on the same line \n",
    "# if there is only one statement_when_true and one else statement.\n",
    "\n",
    "x = int(input(\"Enter a number for x: \"))\n",
    "y = int(input(\"Enter a number for y: \"))\n",
    "print (\"x is greater than y!\") if x > y else print (\"x is not greater than y!\")"
   ]
  },
  {
   "cell_type": "markdown",
   "metadata": {},
   "source": [
    "### While Loop\n",
    "while `<condition>:\n",
    "    <expression>\n",
    "    <expression>\n",
    "    ...` \n",
    "    \n",
    "`<condition> evaluates to a Boolean\n",
    "if <condition> is True, do all the steps inside the while code block\n",
    "check <condition> again\n",
    "repeat until <condition> is False`"
   ]
  },
  {
   "cell_type": "code",
   "execution_count": 11,
   "metadata": {},
   "outputs": [
    {
     "name": "stdout",
     "output_type": "stream",
     "text": [
      "Enter a number for x: 5\n",
      "120\n"
     ]
    }
   ],
   "source": [
    "x = int(input(\"Enter a number for x: \"))\n",
    "result = 1\n",
    "\n",
    "while x > 1:\n",
    "    result = result * x\n",
    "    x = x - 1\n",
    "print(result)"
   ]
  },
  {
   "cell_type": "code",
   "execution_count": 14,
   "metadata": {},
   "outputs": [
    {
     "name": "stdout",
     "output_type": "stream",
     "text": [
      "('three', 3)\n"
     ]
    }
   ],
   "source": [
    "d = {'one': 1, 'two': 2, 'three': 3}\n",
    "\n",
    "print(d.popitem()) if d else print('Done.')\n",
    "\n",
    "# popitem() method removes one key-value pair from d and returns it as a tuple"
   ]
  },
  {
   "cell_type": "markdown",
   "metadata": {},
   "source": [
    "### For Loop\n",
    "`for <variable> in range (<someNumber>):-\n",
    "    <expression>\n",
    "    <expression>\n",
    "    ...`\n",
    "    \n",
    "`each time through the loop, <variable> takes a value\n",
    "first time, <variable> starts at the smallest value\n",
    "next time, <variable> gets the prevvalue + 1\n",
    "range(start, stop, step)`"
   ]
  },
  {
   "cell_type": "code",
   "execution_count": 17,
   "metadata": {},
   "outputs": [
    {
     "name": "stdout",
     "output_type": "stream",
     "text": [
      "0\n",
      "2\n",
      "6\n",
      "12\n",
      "20\n",
      "20\n"
     ]
    }
   ],
   "source": [
    "sum = 0\n",
    "\n",
    "for i in range(0, 10, 2):\n",
    "    sum += i\n",
    "    print(sum)\n",
    "print(sum)\n",
    "\n",
    "# range(0, 10, 3) means that it starts at 0, stops at 10, with a step of 3."
   ]
  },
  {
   "cell_type": "markdown",
   "metadata": {},
   "source": [
    "### Infinite Loop\n",
    "Loop that runs forever can be stopped only by killing the program or restarting the computer:\n",
    "\n",
    "when we forget to update the variable that controls the loop\n",
    "\n",
    "i = 0 while i <= 10: print(i)\n",
    "\n",
    "when accidentally incrementing a counter that should be decremented.\n",
    "\n",
    "#### Nested Loop\n",
    "If a loop (for loop or while loop) contains another loop in its body block, we say that the two loops are nested.\n",
    "If the outer loop is designed to perform m iterations and the inner loop is designed to perform n repetitions, the body block of the inner loop will get executed m\\n* times."
   ]
  },
  {
   "cell_type": "code",
   "execution_count": 18,
   "metadata": {},
   "outputs": [
    {
     "name": "stdout",
     "output_type": "stream",
     "text": [
      "P\n",
      "y\n",
      "t\n",
      "h\n",
      "o\n",
      "n\n"
     ]
    }
   ],
   "source": [
    "word = 'Python'\n",
    "index = 0\n",
    "while index < len(word):\n",
    "    letter = word[index]\n",
    "    print(letter)\n",
    "    index += 1"
   ]
  },
  {
   "cell_type": "code",
   "execution_count": 19,
   "metadata": {},
   "outputs": [
    {
     "name": "stdout",
     "output_type": "stream",
     "text": [
      "P\n",
      "y\n",
      "t\n",
      "h\n",
      "o\n",
      "n\n"
     ]
    }
   ],
   "source": [
    "# The while loop in the above cell could be shortened with for loop.\n",
    "for char in word:\n",
    "    print(char)"
   ]
  },
  {
   "cell_type": "markdown",
   "metadata": {},
   "source": [
    "#### Loop over tuple"
   ]
  },
  {
   "cell_type": "code",
   "execution_count": 20,
   "metadata": {},
   "outputs": [
    {
     "name": "stdout",
     "output_type": "stream",
     "text": [
      "1\n",
      "2\n",
      "3\n",
      "4\n",
      "5\n"
     ]
    }
   ],
   "source": [
    "numbers = [1, 2, 3, 4, 5]\n",
    "for i in range(len(numbers)):\n",
    "    print(numbers[i])"
   ]
  },
  {
   "cell_type": "code",
   "execution_count": 21,
   "metadata": {},
   "outputs": [
    {
     "name": "stdout",
     "output_type": "stream",
     "text": [
      "1\n",
      "2\n",
      "3\n",
      "4\n",
      "5\n"
     ]
    }
   ],
   "source": [
    "# We can simplify the above for loop with the following one.\n",
    "for number in numbers:\n",
    "    print(number)"
   ]
  },
  {
   "cell_type": "code",
   "execution_count": 22,
   "metadata": {},
   "outputs": [
    {
     "name": "stdout",
     "output_type": "stream",
     "text": [
      "2  :  ('GU', 'course')\n"
     ]
    }
   ],
   "source": [
    "tup = ((1, 'GU'), (4, 'university'), (9, \"python\"), (1, \"course\"))\n",
    "\n",
    "words = ()\n",
    "for t in tup:\n",
    "    if t[0] == 1:\n",
    "        words += (t[1],)\n",
    "        same_key = len(words)\n",
    "        \n",
    "print(same_key,' : ', words)"
   ]
  },
  {
   "cell_type": "markdown",
   "metadata": {},
   "source": [
    "#### Loop over dictionary"
   ]
  },
  {
   "cell_type": "code",
   "execution_count": 23,
   "metadata": {},
   "outputs": [
    {
     "name": "stdout",
     "output_type": "stream",
     "text": [
      "(1, 100)\n",
      "(2, 200)\n",
      "(3, 300)\n"
     ]
    }
   ],
   "source": [
    "# get the items, pairs of (key, value), from a dictionary\n",
    "dict = {1:100, 2:200, 3:300}\n",
    "for pair in dict.items():\n",
    "    print(pair)"
   ]
  },
  {
   "cell_type": "code",
   "execution_count": 24,
   "metadata": {},
   "outputs": [
    {
     "name": "stdout",
     "output_type": "stream",
     "text": [
      "Key = 1 , value = 100\n",
      "Key = 2 , value = 200\n",
      "Key = 3 , value = 300\n"
     ]
    }
   ],
   "source": [
    "dict = {1:100, 2:200, 3:300}\n",
    "for key, value in dict.items():\n",
    "    print(\"Key =\", key, \", value =\", value)"
   ]
  },
  {
   "cell_type": "code",
   "execution_count": 25,
   "metadata": {},
   "outputs": [
    {
     "name": "stdout",
     "output_type": "stream",
     "text": [
      "1 100\n",
      "2 200\n",
      "3 300\n"
     ]
    }
   ],
   "source": [
    "# Access the keys of the items in a dictionary \n",
    "# And given a key, get the value(s) of the item(s) in a dictionary that have that key\n",
    "dict = {1:100, 2:200, 3:300}\n",
    "for key in dict.keys():\n",
    "    print(key, dict.get(key))"
   ]
  },
  {
   "cell_type": "markdown",
   "metadata": {},
   "source": [
    "#### else in a Loop\n",
    "Python allows the else keyword to be used with the for and while loops too.\n",
    "The else block appears after the body of the loop.\n",
    "The statements in the else block will be executed after all iterations are completed."
   ]
  },
  {
   "cell_type": "code",
   "execution_count": 26,
   "metadata": {},
   "outputs": [
    {
     "name": "stdout",
     "output_type": "stream",
     "text": [
      "iteration num 1 in for loop\n",
      "iteration num 2 in for loop\n",
      "iteration num 3 in for loop\n",
      "else block in loop\n",
      "Out of loop\n"
     ]
    }
   ],
   "source": [
    "for x in range(3):\n",
    "    print(\"iteration num\", x+1, \"in for loop\")\n",
    "else: \n",
    "    print(\"else block in loop\")\n",
    "print(\"Out of loop\")"
   ]
  },
  {
   "cell_type": "code",
   "execution_count": 27,
   "metadata": {},
   "outputs": [
    {
     "name": "stdout",
     "output_type": "stream",
     "text": [
      "Iteration num 1  in while loop\n",
      "Iteration num 2  in while loop\n",
      "Iteration num 3  in while loop\n",
      "else block in loop\n",
      "Out of loop\n"
     ]
    }
   ],
   "source": [
    "x = 0\n",
    "while x < 3: \n",
    "    x = x+1\n",
    "    print(\"Iteration num\", x, \" in while loop\")\n",
    "else:\n",
    "    print(\"else block in loop\")\n",
    "print(\"Out of loop\")"
   ]
  },
  {
   "cell_type": "markdown",
   "metadata": {},
   "source": [
    "## break Statement in a Loop\n",
    "* immediately exits whatever loop it is in\n",
    "* skips remaining expressions in code block\n",
    "* exits only innermost loop!"
   ]
  },
  {
   "cell_type": "code",
   "execution_count": 31,
   "metadata": {},
   "outputs": [
    {
     "name": "stdout",
     "output_type": "stream",
     "text": [
      "Num =  1\n",
      "Num =  2\n",
      "Num =  3\n",
      "Num =  4\n",
      "Out of loop\n"
     ]
    }
   ],
   "source": [
    "for num in range(1, 10):\n",
    "    print(\"Num = \", num)\n",
    "    if num == 4:\n",
    "       break\n",
    "print(\"Out of loop\")"
   ]
  },
  {
   "cell_type": "code",
   "execution_count": 32,
   "metadata": {},
   "outputs": [
    {
     "name": "stdout",
     "output_type": "stream",
     "text": [
      "Hello\n",
      "Hello\n",
      "Hello\n"
     ]
    }
   ],
   "source": [
    "for i in range(1, 4):\n",
    "    for j in range(1, 5):\n",
    "        print('Hello')\n",
    "        break"
   ]
  },
  {
   "cell_type": "markdown",
   "metadata": {},
   "source": [
    "### continue Statement in a Loop\n",
    "* The continue statement is somewhat opposite to the break statement.\n",
    "* It skips the remaining statements in the current loop and starts the next iteration"
   ]
  },
  {
   "cell_type": "code",
   "execution_count": 33,
   "metadata": {},
   "outputs": [
    {
     "name": "stdout",
     "output_type": "stream",
     "text": [
      "Num :  1\n",
      "Num :  2\n",
      "Num :  3\n",
      "Num :  5\n",
      "Num :  6\n",
      "Out of loop\n"
     ]
    }
   ],
   "source": [
    "num = 0\n",
    "while num < 6:\n",
    "    num += 1\n",
    "    if num == 4:\n",
    "        continue\n",
    "    print(\"Num : \", num)\n",
    "print(\"Out of loop\")"
   ]
  },
  {
   "cell_type": "code",
   "execution_count": 35,
   "metadata": {},
   "outputs": [
    {
     "name": "stdout",
     "output_type": "stream",
     "text": [
      "Enter a number: 4\n",
      "2\n",
      "2\n"
     ]
    }
   ],
   "source": [
    "num = int(input(\"Enter a number: \"))\n",
    "d = 2\n",
    "while num > 1:\n",
    "    if num %d == 0:\n",
    "        print(d)\n",
    "        num = num/d\n",
    "        continue\n",
    "    d += 1"
   ]
  },
  {
   "cell_type": "markdown",
   "metadata": {},
   "source": [
    "### pass Statement\n",
    "* The pass is used as a dummy place holder whenever a syntactical requirement of a certain programming element is to be fulfilled without assigning any operation.\n",
    "* Python interpreter ignores pass."
   ]
  },
  {
   "cell_type": "code",
   "execution_count": 36,
   "metadata": {},
   "outputs": [
    {
     "name": "stdout",
     "output_type": "stream",
     "text": [
      "Num:  1\n",
      "Num:  2\n",
      "Num:  3\n",
      "Num:  5\n"
     ]
    }
   ],
   "source": [
    "for num in range(1, 6):\n",
    "    if num == 4:\n",
    "        pass\n",
    "    else:\n",
    "        print(\"Num: \", num)"
   ]
  },
  {
   "cell_type": "markdown",
   "metadata": {},
   "source": [
    "## for vs while Loops\n",
    "\n",
    "### for loops\n",
    "\n",
    "* know number of iterations (definite iterations)\n",
    "* can end early via break\n",
    "* uses a counter\n",
    "* can rewrite a for loop using a while loop\n",
    "\n",
    "### while loops\n",
    "\n",
    "* unbounded number of iterations (indefinite iterations)\n",
    "* can end early via break\n",
    "* can use a counter but must initialise before starting the loop and increment/decrement it inside loop\n",
    "* may not be able to rewrite a while loop using a for loop\n",
    "\n",
    "### Looping Techniques in Python\n",
    "Python supports various looping techniques by certain inbuilt functions, in various sequential containers.\n",
    "These methods are primarily useful in competitive programming and in various project which require a specific technique with loops maintaining the overall structure of code.\n",
    "\n",
    "#### Where are they used?\n",
    "\n",
    "* useful in places where we don't need to actually manipulate the structure and ordering of overall container.\n",
    "* useful where we only need to print the elements for a single use instance, no inplace change occurs in the container."
   ]
  },
  {
   "cell_type": "markdown",
   "metadata": {},
   "source": [
    "### enumerate()\n",
    "*enumerate(): loops through the containers printing the index number along with the value present in that particular index."
   ]
  },
  {
   "cell_type": "code",
   "execution_count": 37,
   "metadata": {},
   "outputs": [
    {
     "name": "stdout",
     "output_type": "stream",
     "text": [
      "0 Python\n",
      "1 for\n",
      "2 data\n",
      "3 scientist\n"
     ]
    }
   ],
   "source": [
    "for key, value in enumerate(['Python', 'for', 'data', 'scientist']):\n",
    "    print(key, value)"
   ]
  },
  {
   "cell_type": "markdown",
   "metadata": {},
   "source": [
    "### Zip()\n",
    "zip(): combines 2 similar containers (list-list or dict-dict) printing the values sequentially. The loop exists only till the smaller container ends."
   ]
  },
  {
   "cell_type": "code",
   "execution_count": 38,
   "metadata": {},
   "outputs": [
    {
     "name": "stdout",
     "output_type": "stream",
     "text": [
      "What is your name? I am apple.\n",
      "What is your colour? I am red.\n",
      "What is your shape? I am a circle.\n"
     ]
    }
   ],
   "source": [
    "questions = ['name', 'colour', 'shape']\n",
    "answers = ['apple', 'red', 'a circle']\n",
    "\n",
    "for question, answer in zip(questions, answers):\n",
    "    print('What is your {0}? I am {1}.'.format(question, answer))"
   ]
  },
  {
   "cell_type": "markdown",
   "metadata": {},
   "source": [
    "### items()\n",
    "items(): loops through the dictionary printing the dictionary key-value pair sequentially."
   ]
  },
  {
   "cell_type": "code",
   "execution_count": 39,
   "metadata": {},
   "outputs": [
    {
     "name": "stdout",
     "output_type": "stream",
     "text": [
      "The key value pair using items is: \n",
      "ett one\n",
      "två two\n"
     ]
    }
   ],
   "source": [
    "d = {\"ett\": \"one\", \"två\": \"two\"}\n",
    "\n",
    "print(\"The key value pair using items is: \")\n",
    "for i, j in d.items():\n",
    "    print(i, j)"
   ]
  },
  {
   "cell_type": "markdown",
   "metadata": {},
   "source": [
    "### sorted()\n",
    "sorted(): prints the container in a sorted order without sorting the original list."
   ]
  },
  {
   "cell_type": "code",
   "execution_count": 40,
   "metadata": {},
   "outputs": [
    {
     "name": "stdout",
     "output_type": "stream",
     "text": [
      "The list in sorted order is: \n",
      "0 0 1 2 4 4 7 "
     ]
    }
   ],
   "source": [
    "l = [0, 2, 4, 7, 0, 1, 4]\n",
    "\n",
    "print(\"The list in sorted order is: \")\n",
    "for i in sorted(l):\n",
    "    print(i, end=\" \")"
   ]
  },
  {
   "cell_type": "code",
   "execution_count": 41,
   "metadata": {},
   "outputs": [
    {
     "data": {
      "text/plain": [
       "[0, 2, 4, 7, 0, 1, 4]"
      ]
     },
     "execution_count": 41,
     "metadata": {},
     "output_type": "execute_result"
    }
   ],
   "source": [
    "# Let's check L\n",
    "l"
   ]
  },
  {
   "cell_type": "markdown",
   "metadata": {},
   "source": [
    "### sorted() & set()\n",
    "set() can be combined with sorted() to remove duplicate occurences."
   ]
  },
  {
   "cell_type": "code",
   "execution_count": 42,
   "metadata": {},
   "outputs": [
    {
     "name": "stdout",
     "output_type": "stream",
     "text": [
      "The list in sorted order (without duplicates) is: \n",
      "0 1 2 4 7 "
     ]
    }
   ],
   "source": [
    "l = [0, 2, 4, 7, 0, 1, 4]\n",
    "\n",
    "print(\"The list in sorted order (without duplicates) is: \")\n",
    "for i in sorted(set(l)):\n",
    "    print(i, end=\" \")"
   ]
  },
  {
   "cell_type": "markdown",
   "metadata": {},
   "source": [
    "### reversed()\n",
    "reversed(): prints the values of container in the reversed order without doing any changes to the original list."
   ]
  },
  {
   "cell_type": "code",
   "execution_count": 43,
   "metadata": {},
   "outputs": [
    {
     "name": "stdout",
     "output_type": "stream",
     "text": [
      "The list in reversed order is: \n",
      "4 1 0 7 4 2 0 "
     ]
    }
   ],
   "source": [
    "l = [0, 2, 4, 7, 0, 1, 4]\n",
    "\n",
    "print(\"The list in reversed order is: \")\n",
    "for i in reversed(l):\n",
    "    print(i, end=\" \")"
   ]
  },
  {
   "cell_type": "code",
   "execution_count": 44,
   "metadata": {},
   "outputs": [
    {
     "data": {
      "text/plain": [
       "[0, 2, 4, 7, 0, 1, 4]"
      ]
     },
     "execution_count": 44,
     "metadata": {},
     "output_type": "execute_result"
    }
   ],
   "source": [
    "# Let's check l\n",
    "l"
   ]
  },
  {
   "cell_type": "markdown",
   "metadata": {},
   "source": [
    "## Switch-case Statement\n",
    "It allows to control the flow of a program based on the value of a variable or an expression.\n",
    "\n",
    "How it works:\n",
    "\n",
    "1. Compiler generates a jump table for switch-case statement.\n",
    "2. The switch variable/expression is evaluated once.\n",
    "3. switch statement looks up the evaluated variable/expression in the jump table and directly decides which code block to execute.\n",
    "4. If no match is found, then the code under default case is executed.\n",
    "5. Python does not have a switch or case statement!\n",
    "\n",
    "`Might look like this in other languages: \n",
    "switch(day){\n",
    "    case 1: dayString = \"Monday\";\n",
    "        break;\n",
    "    case 2: dayString = \"Tuesday\";\n",
    "        break;\n",
    "    case 3: dayString = \"Wednesday\";\n",
    "        break;\n",
    "    case 4: dayString = \"Thursday\";\n",
    "        break;\n",
    "    case 5: dayString = \"Friday\";\n",
    "        break;\n",
    "    case 6: dayString = \"Saturday\";\n",
    "        break;\n",
    "    case 7: dayString = \"Sunday\";\n",
    "        break;\n",
    "    default: dayString = \"Invalid day\";\n",
    "        break;\n",
    "}`\n",
    "\n",
    "Solutions in Python:\n",
    "\n",
    "use a series of if-else-if blocks\n",
    "implement switch statement by using a dictionary mapping"
   ]
  },
  {
   "cell_type": "code",
   "execution_count": 46,
   "metadata": {},
   "outputs": [
    {
     "name": "stdout",
     "output_type": "stream",
     "text": [
      "Tuesday\n",
      "Invalid day\n"
     ]
    }
   ],
   "source": [
    "switcher = {\n",
    "    1: \"Monday\",\n",
    "    2: \"Tuesday\",\n",
    "    3: \"Wednesday\",\n",
    "    4: \"Thursday\",\n",
    "    5: \"Friday\",\n",
    "    6: \"Saturday\",\n",
    "    7: \"Sunday\"\n",
    "}\n",
    "\n",
    "# If the key is not in the switcher, print default value\n",
    "print(switcher.get(2, \"Invalid day\"))\n",
    "print(switcher.get(10, \"Invalid day\"))"
   ]
  },
  {
   "cell_type": "code",
   "execution_count": null,
   "metadata": {},
   "outputs": [],
   "source": []
  }
 ],
 "metadata": {
  "kernelspec": {
   "display_name": "Python 3",
   "language": "python",
   "name": "python3"
  },
  "language_info": {
   "codemirror_mode": {
    "name": "ipython",
    "version": 3
   },
   "file_extension": ".py",
   "mimetype": "text/x-python",
   "name": "python",
   "nbconvert_exporter": "python",
   "pygments_lexer": "ipython3",
   "version": "3.7.6"
  }
 },
 "nbformat": 4,
 "nbformat_minor": 4
}
